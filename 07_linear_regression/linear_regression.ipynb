{
 "cells": [
  {
   "cell_type": "markdown",
   "metadata": {},
   "source": [
    "Анастасия Плавина"
   ]
  },
  {
   "cell_type": "markdown",
   "metadata": {},
   "source": [
    "### Тема: Многомерный статистический анализ. Линейная регрессия"
   ]
  },
  {
   "cell_type": "markdown",
   "metadata": {},
   "source": [
    "#### Задача 1\n",
    "\n",
    "Дана матрица объект-признак\n",
    "\n",
    "X = [[ 1.22401313, 2.30868478, 3.03636353, 2.69287214],\n",
    "[-0.18757272, 1.30337355, 5.12093014, 3.46363202],\n",
    "[-0.81094525, 1.82463398, 5.79686488, 1.86159445],\n",
    "[ 0.75129018, 2.67392052, 3.65529809, 1.66746094],\n",
    "[ 0.00972362, 1.97367255, 2.50594319, 1.69755173],\n",
    "[-0.62972637, 0.77750764, 2.84124027, 4.54410559],\n",
    "[ 2.29536229, 1.81206697, 1.95026215, 1.51874636],\n",
    "[ 0.0920418 , 2.26971361, 7.47708735, 2.61081203],\n",
    "[ 2.39252799, 3.17563985, 3.61420599, 5.10773362],\n",
    "[ 0.54983815, 2.87988651, 1.65752765, 1.59635987]]\n",
    "\n",
    "и значения целевой переменной\n",
    "\n",
    "y = [ 9.26193358, 9.700363 , 8.67214805, 8.74796974, 6.18689108,\n",
    "7.53312713, 7.57643777, 12.44965478, 14.29010746, 6.68361218]\n",
    "\n",
    "Подберите два признака (из четырёх) так, чтобы уровень линейной зависимости целевой переменной от значений этих признаков был максимальным. Другими словами, модель линейной регрессии на этих признаках должна давать наилучший результат. Является ли значимым получившееся уравнение регрессии?\n"
   ]
  },
  {
   "cell_type": "code",
   "execution_count": 1,
   "metadata": {},
   "outputs": [],
   "source": [
    "import numpy as np\n",
    "\n",
    "X = np.array(\n",
    "    [[ 1.22401313, 2.30868478, 3.03636353, 2.69287214], \n",
    "     [-0.18757272, 1.30337355, 5.12093014, 3.46363202], \n",
    "     [-0.81094525, 1.82463398, 5.79686488, 1.86159445], \n",
    "     [ 0.75129018, 2.67392052, 3.65529809, 1.66746094], \n",
    "     [ 0.00972362, 1.97367255, 2.50594319, 1.69755173], \n",
    "     [-0.62972637, 0.77750764, 2.84124027, 4.54410559], \n",
    "     [ 2.29536229, 1.81206697, 1.95026215, 1.51874636], \n",
    "     [ 0.0920418 , 2.26971361, 7.47708735, 2.61081203], \n",
    "     [ 2.39252799, 3.17563985, 3.61420599, 5.10773362], \n",
    "     [ 0.54983815, 2.87988651, 1.65752765, 1.59635987]])\n",
    "\n",
    "y = np.array([9.26193358, 9.700363 , 8.67214805, 8.74796974, 6.18689108, \n",
    "     7.53312713, 7.57643777, 12.44965478, 14.29010746, 6.68361218])"
   ]
  },
  {
   "cell_type": "markdown",
   "metadata": {},
   "source": [
    "Воспользуемся методом наименьших квадратов для уравнения линейной регрессии $Y = X \\cdot b + E$ и найдем коэффиценты $b$."
   ]
  },
  {
   "cell_type": "code",
   "execution_count": 2,
   "metadata": {},
   "outputs": [],
   "source": [
    "def two_factors_r_2(X, y):\n",
    "    \"\"\"Подсчет коэффицента детерминации линейной регрессии\n",
    "    \"\"\"\n",
    "  \n",
    "    #  добавление к матрице столбца с единицами\n",
    "    ones = np.ones((X.shape[0], 1))\n",
    "    X = np.hstack((ones, X))\n",
    "    \n",
    "    # подсчет коэффицентов для уравнения линейной регрессии\n",
    "    XTX = X.T.dot(X)\n",
    "    XTX_inv = np.linalg.inv(XTX)\n",
    "    b = XTX_inv.dot(X.T).dot(y)\n",
    "    \n",
    "    # подсчет ошибок\n",
    "    y_pred = X.dot(b)\n",
    "    e = y - y_pred\n",
    "    \n",
    "    # подсчет r2\n",
    "    return 1 - e.var() / y.var()"
   ]
  },
  {
   "cell_type": "markdown",
   "metadata": {},
   "source": [
    "Применим функцию для всевозможных парных срезов массива X и выберем комбинацию факторов, при которой R2 максимальный:"
   ]
  },
  {
   "cell_type": "code",
   "execution_count": 3,
   "metadata": {},
   "outputs": [
    {
     "data": {
      "text/plain": [
       "[((0, 2), 0.7634246238793152),\n",
       " ((2, 3), 0.622441987650532),\n",
       " ((1, 3), 0.6062055761129931),\n",
       " ((1, 2), 0.547948273403901),\n",
       " ((0, 3), 0.4532966783144077),\n",
       " ((0, 1), 0.18113594742585215)]"
      ]
     },
     "execution_count": 3,
     "metadata": {},
     "output_type": "execute_result"
    }
   ],
   "source": [
    "r2s = []\n",
    "\n",
    "for i1 in range(3):\n",
    "    for i2 in range(i1+1, 4):\n",
    "        r2 = two_factors_r_2(X[:, [i1,i2]], y)\n",
    "        r2s.append(((i1,i2), r2))\n",
    "        \n",
    "r2s.sort(key=lambda x:-x[1])\n",
    "r2s"
   ]
  },
  {
   "cell_type": "code",
   "execution_count": 4,
   "metadata": {},
   "outputs": [
    {
     "name": "stdout",
     "output_type": "stream",
     "text": [
      "1-ый и 3-ий признак \t R2 0.76\n"
     ]
    }
   ],
   "source": [
    "r2 = round(r2s[0][1],2)\n",
    "\n",
    "print('1-ый и 3-ий признак \\t R2', r2)"
   ]
  },
  {
   "cell_type": "markdown",
   "metadata": {},
   "source": [
    "Проверим значимость коэффицентa:"
   ]
  },
  {
   "cell_type": "markdown",
   "metadata": {},
   "source": [
    "$H_0$: коэффицент детерминации равен 0\n",
    "\n",
    "Используем F-тест:\n",
    "\n",
    "$F = \\dfrac{R^2 / m}{(1 - R^2) / (n - m - 1)}$"
   ]
  },
  {
   "cell_type": "code",
   "execution_count": 5,
   "metadata": {},
   "outputs": [],
   "source": [
    "def f_test(R, k1, k2):\n",
    "    \"\"\"F-тест для проверки коэффицента детерминации\n",
    "    \"\"\"\n",
    "    \n",
    "    return (R / k1) / ((1 - R) / k2)"
   ]
  },
  {
   "cell_type": "markdown",
   "metadata": {},
   "source": [
    "Найдем $k_1$ и $k_2$:"
   ]
  },
  {
   "cell_type": "code",
   "execution_count": 6,
   "metadata": {},
   "outputs": [
    {
     "data": {
      "text/plain": [
       "(2, 7)"
      ]
     },
     "execution_count": 6,
     "metadata": {},
     "output_type": "execute_result"
    }
   ],
   "source": [
    "n = X.shape[0]\n",
    "m = 2\n",
    "\n",
    "k1 = m\n",
    "k2 = n - m - 1\n",
    "\n",
    "k1, k2"
   ]
  },
  {
   "cell_type": "markdown",
   "metadata": {},
   "source": [
    "В предположении верности $H_0$ статистика имеет распределение Фишера, найдем нужный квантиль при уровне значимости alpha = 0.05:"
   ]
  },
  {
   "cell_type": "code",
   "execution_count": 7,
   "metadata": {},
   "outputs": [
    {
     "data": {
      "text/plain": [
       "4.73741412777588"
      ]
     },
     "execution_count": 7,
     "metadata": {},
     "output_type": "execute_result"
    }
   ],
   "source": [
    "from scipy import stats\n",
    "alpha = 0.05\n",
    "\n",
    "t = stats.f.ppf(1 - alpha, k1, k2)\n",
    "t"
   ]
  },
  {
   "cell_type": "markdown",
   "metadata": {},
   "source": [
    "Проверим значимость полученного коэффицента r2:"
   ]
  },
  {
   "cell_type": "code",
   "execution_count": 8,
   "metadata": {},
   "outputs": [
    {
     "data": {
      "text/plain": [
       "11.083333333333332"
      ]
     },
     "execution_count": 8,
     "metadata": {},
     "output_type": "execute_result"
    }
   ],
   "source": [
    "f_test(r2, k1, k2)"
   ]
  },
  {
   "cell_type": "markdown",
   "metadata": {},
   "source": [
    "Значение статистики попадает в критическую область => $H_0$ отвергаем => коэффицент детерминации 0.76 считаем значимым"
   ]
  },
  {
   "cell_type": "markdown",
   "metadata": {},
   "source": [
    "#### Задача 2\n",
    "\n",
    "Для проведения A/B-тестирования сайта интернет-магазина были получены следующие данные: страница A была посещена 2509 раз, из них 77 закончились совершением покупки, страница B была посещена 1465 раз, 60 из них закончились совершением покупки. Является ли значимым отличие конверсии на страницах A и B?"
   ]
  },
  {
   "cell_type": "markdown",
   "metadata": {},
   "source": [
    "$H_0$: конверсия на странице B не отличается от конверсии на странице A."
   ]
  },
  {
   "cell_type": "markdown",
   "metadata": {},
   "source": [
    "Посчитаем среднюю конверсию для страниц A и B, и общую среднюю конверсию для страницы в целом"
   ]
  },
  {
   "cell_type": "code",
   "execution_count": 18,
   "metadata": {},
   "outputs": [
    {
     "data": {
      "text/plain": [
       "(0.03068951773614986, 0.040955631399317405, 0.03447408152994464)"
      ]
     },
     "execution_count": 18,
     "metadata": {},
     "output_type": "execute_result"
    }
   ],
   "source": [
    "n1 = 2509\n",
    "n2 = 1465\n",
    "\n",
    "y1_mean = 77/2509\n",
    "y2_mean = 60/1465\n",
    "y_mean = (60+77)/(2509+1465)\n",
    "\n",
    "y1_mean, y2_mean, y_mean"
   ]
  },
  {
   "cell_type": "markdown",
   "metadata": {},
   "source": [
    "Найдем отклонение между группами по формуле $S_b^2 = \\displaystyle\\sum_{i=1}^k \\left( \\overline{Y_i} - \\overline{Y} \\right)^2 n_i$:"
   ]
  },
  {
   "cell_type": "code",
   "execution_count": 10,
   "metadata": {},
   "outputs": [
    {
     "data": {
      "text/plain": [
       "0.09748158004016791"
      ]
     },
     "execution_count": 10,
     "metadata": {},
     "output_type": "execute_result"
    }
   ],
   "source": [
    "S2_b = n1 * (y1_mean - y_mean) ** 2 + n2 * (y2_mean - y_mean) ** 2\n",
    "S2_b"
   ]
  },
  {
   "cell_type": "markdown",
   "metadata": {},
   "source": [
    "Найдем отклонение внутри групп по формуле $S_w^{2} = \\displaystyle\\sum_{i=1}^k \\displaystyle\\sum_{j=1}^{n_i} \\left( y_{ij} - \\overline{Y_i} \\right)^2$:"
   ]
  },
  {
   "cell_type": "markdown",
   "metadata": {},
   "source": [
    "Считаем, что данные для страницы А содержат 77 успехов (единиц) и (2509-77) неуспехов (нулей), для страницы B в данных 60 единиц и (1465-60) нулей, подставим в формулу:"
   ]
  },
  {
   "cell_type": "markdown",
   "metadata": {},
   "source": [
    "$S_w^{2} = \\displaystyle\\sum_{i=1}^k \\displaystyle\\sum_{j=1}^{n_i} \\left( y_{ij} - \\overline{Y_i} \\right)^2 = \\displaystyle\\sum_{j=1}^{1465} \\left(\\{0,1\\} - 0.04 \\right)^2 + \\displaystyle\\sum_{j=1}^{2509} \\left(\\{0,1\\} - 0.03 \\right)^2 = $\n",
    "$ = (1465-60) \\cdot 0.04^2 + 60 \\cdot (1-0.04)^2 + (2509-77) \\cdot 0.03^2 + 77 \\cdot (1-0.03)^2$"
   ]
  },
  {
   "cell_type": "code",
   "execution_count": 11,
   "metadata": {},
   "outputs": [
    {
     "data": {
      "text/plain": [
       "132.1821"
      ]
     },
     "execution_count": 11,
     "metadata": {},
     "output_type": "execute_result"
    }
   ],
   "source": [
    "S2_w = (1465-60) * 0.04**2 + 60 * (1-0.04)**2 + (2509-77) * 0.03**2 + 77 * (1-0.03)**2\n",
    "S2_w"
   ]
  },
  {
   "cell_type": "markdown",
   "metadata": {},
   "source": [
    "Найдем несмещённые оценки дисперсий:"
   ]
  },
  {
   "cell_type": "code",
   "execution_count": 12,
   "metadata": {},
   "outputs": [
    {
     "data": {
      "text/plain": [
       "(0.09748158004016791, 0.03327847432024169)"
      ]
     },
     "execution_count": 12,
     "metadata": {},
     "output_type": "execute_result"
    }
   ],
   "source": [
    "k = 2\n",
    "n = n1 + n2\n",
    "\n",
    "k1 = k - 1\n",
    "k2 = n - k\n",
    "\n",
    "sigma2_b = S2_b / k1\n",
    "sigma2_w = S2_w / k2\n",
    "\n",
    "sigma2_b, sigma2_w"
   ]
  },
  {
   "cell_type": "markdown",
   "metadata": {},
   "source": [
    "Посчитаем статистику F:"
   ]
  },
  {
   "cell_type": "code",
   "execution_count": 13,
   "metadata": {},
   "outputs": [
    {
     "data": {
      "text/plain": [
       "2.929268304252595"
      ]
     },
     "execution_count": 13,
     "metadata": {},
     "output_type": "execute_result"
    }
   ],
   "source": [
    "F = sigma2_b / sigma2_w\n",
    "F"
   ]
  },
  {
   "cell_type": "markdown",
   "metadata": {},
   "source": [
    "При уровне значимости alpha = 0.05 найдем квантиль распределения Фишера:"
   ]
  },
  {
   "cell_type": "code",
   "execution_count": 14,
   "metadata": {},
   "outputs": [
    {
     "data": {
      "text/plain": [
       "3.8438010503414866"
      ]
     },
     "execution_count": 14,
     "metadata": {},
     "output_type": "execute_result"
    }
   ],
   "source": [
    "alpha = 0.05\n",
    "\n",
    "t = stats.f.ppf(1 - alpha, k1, k2)\n",
    "t"
   ]
  },
  {
   "cell_type": "markdown",
   "metadata": {},
   "source": [
    "Статистика не попадает в критическую область => $H_0$ остается в силе и отличие конверсий на страницах A и В не значимо."
   ]
  },
  {
   "cell_type": "markdown",
   "metadata": {},
   "source": [
    "#### Задача 3\n",
    "\n",
    "__Квартет Энскомба__ — популярный в области анализа данных пример наборов данных, у которых практически совпадают все статистические свойства (средние, дисперсии, коэффициенты корреляции, регрессионные линии), однако, существенно отличаются графики. Данный пример призван показать, насколько важна визуализация данных. Датасет представляет собой 4 пары выборок:\n",
    "\n",
    "```\n",
    "{\n",
    "    \"x1\": [10.0, 8.0, 13.0, 9.0, 11.0, 14.0, 6.0, 4.0, 12.0, 7.0, 5.0],\n",
    "    \"y1\": [8.04, 6.95, 7.58, 8.81, 8.33, 9.96, 7.24, 4.26, 10.84, 4.82, 5.68],\n",
    "    \"x2\": [10.0, 8.0, 13.0, 9.0, 11.0, 14.0, 6.0, 4.0, 12.0, 7.0, 5.0],\n",
    "    \"y2\": [9.14, 8.14, 8.74, 8.77, 9.26, 8.1, 6.13, 3.1, 9.13, 7.26, 4.74],\n",
    "    \"x3\": [10.0, 8.0, 13.0, 9.0, 11.0, 14.0, 6.0, 4.0, 12.0, 7.0, 5.0],\n",
    "    \"y3\": [7.46, 6.77, 12.74, 7.11, 7.81, 8.84, 6.08, 5.39, 8.15, 6.42, 5.73],\n",
    "    \"x4\": [8.0, 8.0, 8.0, 8.0, 8.0, 8.0, 8.0, 19.0, 8.0, 8.0, 8.0],\n",
    "    \"y4\": [6.58, 5.76, 7.71, 8.84, 8.47, 7.04, 5.25, 12.5, 5.56, 7.91, 6.89]\n",
    "}\n",
    "```\n",
    "\n",
    "По каждой паре выборок посчитайте:\n",
    "\n",
    "1. выборочное среднее и дисперсию каждой выборки,\n",
    "2. коэффициент корреляции Пирсона и прямую линейной регрессии.\n",
    "\n",
    "Убедившись в том, что они не практически не отличаются, постройте `scatter plot` по каждой паре выборок."
   ]
  },
  {
   "cell_type": "code",
   "execution_count": 15,
   "metadata": {},
   "outputs": [],
   "source": [
    "import matplotlib.pyplot as plt \n",
    "\n",
    "data = {\n",
    "    \"x1\": [10.0, 8.0, 13.0, 9.0, 11.0, 14.0, 6.0, 4.0, 12.0, 7.0, 5.0],\n",
    "    \"y1\": [8.04, 6.95, 7.58, 8.81, 8.33, 9.96, 7.24, 4.26, 10.84, 4.82, 5.68],\n",
    "    \"x2\": [10.0, 8.0, 13.0, 9.0, 11.0, 14.0, 6.0, 4.0, 12.0, 7.0, 5.0],\n",
    "    \"y2\": [9.14, 8.14, 8.74, 8.77, 9.26, 8.1, 6.13, 3.1, 9.13, 7.26, 4.74],\n",
    "    \"x3\": [10.0, 8.0, 13.0, 9.0, 11.0, 14.0, 6.0, 4.0, 12.0, 7.0, 5.0],\n",
    "    \"y3\": [7.46, 6.77, 12.74, 7.11, 7.81, 8.84, 6.08, 5.39, 8.15, 6.42, 5.73],\n",
    "    \"x4\": [8.0, 8.0, 8.0, 8.0, 8.0, 8.0, 8.0, 19.0, 8.0, 8.0, 8.0],\n",
    "    \"y4\": [6.58, 5.76, 7.71, 8.84, 8.47, 7.04, 5.25, 12.5, 5.56, 7.91, 6.89]\n",
    "}"
   ]
  },
  {
   "cell_type": "code",
   "execution_count": 16,
   "metadata": {},
   "outputs": [
    {
     "name": "stdout",
     "output_type": "stream",
     "text": [
      "x1\n",
      "Mean \t\t 9.0\n",
      "Variance \t 11.0\n",
      "y1\n",
      "Mean \t\t 7.5\n",
      "Variance \t 4.13\n",
      "\n",
      "\n",
      "Corr.coef \t 0.82\n",
      "Lin. regr\n",
      "coefs \t\t (3.0, 0.5001)\n",
      "--------------------\n",
      "x2\n",
      "Mean \t\t 9.0\n",
      "Variance \t 11.0\n",
      "y2\n",
      "Mean \t\t 7.5\n",
      "Variance \t 4.13\n",
      "\n",
      "\n",
      "Corr.coef \t 0.82\n",
      "Lin. regr\n",
      "coefs \t\t (3.0009, 0.5)\n",
      "--------------------\n",
      "x3\n",
      "Mean \t\t 9.0\n",
      "Variance \t 11.0\n",
      "y3\n",
      "Mean \t\t 7.5\n",
      "Variance \t 4.12\n",
      "\n",
      "\n",
      "Corr.coef \t 0.82\n",
      "Lin. regr\n",
      "coefs \t\t (3.0027, 0.4997)\n",
      "--------------------\n",
      "x4\n",
      "Mean \t\t 9.0\n",
      "Variance \t 11.0\n",
      "y4\n",
      "Mean \t\t 7.5\n",
      "Variance \t 4.12\n",
      "\n",
      "\n",
      "Corr.coef \t 0.82\n",
      "Lin. regr\n",
      "coefs \t\t (3.0018, 0.4999)\n",
      "--------------------\n"
     ]
    },
    {
     "data": {
      "image/png": "[encoded data removed]",
      "text/plain": [
       "<Figure size 432x288 with 1 Axes>"
      ]
     },
     "metadata": {
      "needs_background": "light"
     },
     "output_type": "display_data"
    },
    {
     "data": {
      "image/png": "[encoded data removed]",
      "text/plain": [
       "<Figure size 432x288 with 1 Axes>"
      ]
     },
     "metadata": {
      "needs_background": "light"
     },
     "output_type": "display_data"
    },
    {
     "data": {
      "image/png": "[encoded data removed]",
      "text/plain": [
       "<Figure size 432x288 with 1 Axes>"
      ]
     },
     "metadata": {
      "needs_background": "light"
     },
     "output_type": "display_data"
    },
    {
     "data": {
      "image/png": "[encoded data removed]",
      "text/plain": [
       "<Figure size 432x288 with 1 Axes>"
      ]
     },
     "metadata": {
      "needs_background": "light"
     },
     "output_type": "display_data"
    }
   ],
   "source": [
    "for i in range (1, 5):\n",
    "    x = data['x'+str(i)]\n",
    "    y = data['y'+str(i)]\n",
    "    b1 = round(np.cov(x, y, ddof=0)[0][1] / np.var(x, ddof=0), 4)\n",
    "    b0 = round(np.mean(y) - b1 * np.mean(x), 4)\n",
    "    print(f'x{i}')\n",
    "    print('Mean \\t\\t', np.mean(x))\n",
    "    print('Variance \\t', np.var(x, ddof=1))\n",
    "    print(f'y{i}')\n",
    "    print('Mean \\t\\t', round(np.mean(y), 2))\n",
    "    print('Variance \\t', round(np.var(y, ddof=1), 2))\n",
    "    print('\\n')\n",
    "    print('Corr.coef \\t', round(np.corrcoef(x , y)[0][1], 2))\n",
    "    print(f'Lin. regr\\ncoefs \\t\\t {b0, b1}')\n",
    "    print('--------------------')\n",
    "    fig, ax = plt.subplots()\n",
    "    plt.scatter(x,y, c='r')"
   ]
  }
 ],
 "metadata": {
  "kernelspec": {
   "display_name": "Python 3",
   "language": "python",
   "name": "python3"
  },
  "language_info": {
   "codemirror_mode": {
    "name": "ipython",
    "version": 3
   },
   "file_extension": ".py",
   "mimetype": "text/x-python",
   "name": "python",
   "nbconvert_exporter": "python",
   "pygments_lexer": "ipython3",
   "version": "3.8.1"
  }
 },
 "nbformat": 4,
 "nbformat_minor": 4
}
