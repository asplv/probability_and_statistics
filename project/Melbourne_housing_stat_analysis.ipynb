{
 "cells": [
  {
   "cell_type": "markdown",
   "metadata": {},
   "source": [
    " Анастасия Плавина\n",
    "\n",
    "# Анализ рынка жилой недвижимости в г. Мельбурн (Авcтралия)"
   ]
  },
  {
   "cell_type": "markdown",
   "metadata": {},
   "source": [
    "## 1. Цели проекта и описание датасета:"
   ]
  },
  {
   "cell_type": "markdown",
   "metadata": {},
   "source": [
    "Анализ выполняется на материале [набора данных](https://www.kaggle.com/anthonypino/melbourne-housing-market?select=Melbourne_housing_FULL.csv) (последнее обновление 08.06.2018), состоящего из 34 857 объектов, собранных с сайта недвижимости [Domain.com.au](https://www.domain.com.au/).\n",
    "\n",
    "**Цель** данного проекта - проанализировать и найти закономерности в данных по недвижимости Мельбурна за 2016-2018 гг.\n",
    "\n",
    "Ход работы:\n",
    "1. Подготовить данные (очистить и обработать пропуски)\n",
    "2. Проанализировать распределения зависимой переменной и независимых характеристик\n",
    "3. Произвести корреляционный анализ\n",
    "4. При помощи дисперсионного анализа проанализировать влияние категориальных переменных на зависимую переменную\n",
    "5. Применить метод главных компонент к количественным признакам с целью понижения размерности\n",
    "6. Проверить гипотезы о зависимостях и построить уравнение линейной регрессии\n"
   ]
  },
  {
   "cell_type": "markdown",
   "metadata": {},
   "source": [
    "### 1.1 Пояснение характеристик"
   ]
  },
  {
   "cell_type": "markdown",
   "metadata": {},
   "source": [
    "**Зависимая переменная - Price**: цена в австралийских долларах\n",
    "\n",
    "**Независимые характеристики:**\n",
    "\n",
    "- Suburb: район\n",
    "\n",
    "- Address: адрес\n",
    "\n",
    "- Rooms: кол-во комнат\n",
    "\n",
    "- Method: метод продажи\n",
    "\n",
    "S - собственность продана; \\\n",
    "SP - собственность продана досрочно; \\\n",
    "PI - property passed in; \\\n",
    "PN - собственность продана досрочно, стоимость не разглашается; \\\n",
    "SN - собственность продана, стоимость не разглашается; \\\n",
    "NB - без ставки; \\\n",
    "VB - ставка ставка продавца; \\\n",
    "W - снята с продажи до аукциона;\\\n",
    "SA -  продана после аукциона;\\\n",
    "SS - продана после аукциона, стоимость не разглашается;\\\n",
    "N/A - стоимость или максимальная ставка не указаны.\n",
    "\n",
    "- Type: тип объекта\n",
    "\n",
    "br - комната;\\\n",
    "h - дом, коттедж, вилла, полудюплекс, терраса;\\\n",
    "u - дюплекс;\\\n",
    "t - таунхаус;\\\n",
    "dev site - район застройки;\\\n",
    "o res - иное жилое помещение.\n",
    "\n",
    "- SellerG: риелтор\n",
    "\n",
    "- Date: дата продажи\n",
    "\n",
    "- Distance: расстояние до делового центра (CBD) в км\n",
    "\n",
    "- Postcode: почтовый индекс\n",
    "\n",
    "- Regionname: регион (West, North West, North, North east … т.д.)\n",
    "\n",
    "- Propertycount: количество объектов недвижимости в районе\n",
    "\n",
    "- Bedroom2 : кол-во спален (from different source)\n",
    "\n",
    "- Bathroom: кол-во ванных комнат\n",
    "\n",
    "- Car: кол-во мест для машин\n",
    "\n",
    "- Landsize: площадь участка в метрах\n",
    "\n",
    "- BuildingArea: площадь дома в метрах\n",
    "\n",
    "- YearBuilt: год постройки\n",
    "\n",
    "- CouncilArea: название муниципалитета\n",
    "\n",
    "- Latitude: широта\n",
    "\n",
    "- Longtitude: долгота"
   ]
  },
  {
   "cell_type": "markdown",
   "metadata": {},
   "source": [
    "### 1.2 Загрузка данных"
   ]
  },
  {
   "cell_type": "code",
   "execution_count": 1,
   "metadata": {},
   "outputs": [],
   "source": [
    "import numpy as np\n",
    "import pandas as pd\n",
    "import geopandas as gpd\n",
    "from scipy import stats\n",
    "import matplotlib.pyplot as plt\n",
    "import seaborn as sns\n",
    "%matplotlib inline"
   ]
  },
  {
   "cell_type": "code",
   "execution_count": 2,
   "metadata": {},
   "outputs": [],
   "source": [
    "df = pd.read_csv('Melbourne_housing_FULL.csv')"
   ]
  },
  {
   "cell_type": "code",
   "execution_count": 3,
   "metadata": {},
   "outputs": [
    {
     "name": "stdout",
     "output_type": "stream",
     "text": [
      "<class 'pandas.core.frame.DataFrame'>\n",
      "RangeIndex: 34857 entries, 0 to 34856\n",
      "Data columns (total 21 columns):\n",
      " #   Column         Non-Null Count  Dtype  \n",
      "---  ------         --------------  -----  \n",
      " 0   Suburb         34857 non-null  object \n",
      " 1   Address        34857 non-null  object \n",
      " 2   Rooms          34857 non-null  int64  \n",
      " 3   Type           34857 non-null  object \n",
      " 4   Price          27247 non-null  float64\n",
      " 5   Method         34857 non-null  object \n",
      " 6   SellerG        34857 non-null  object \n",
      " 7   Date           34857 non-null  object \n",
      " 8   Distance       34856 non-null  float64\n",
      " 9   Postcode       34856 non-null  float64\n",
      " 10  Bedroom2       26640 non-null  float64\n",
      " 11  Bathroom       26631 non-null  float64\n",
      " 12  Car            26129 non-null  float64\n",
      " 13  Landsize       23047 non-null  float64\n",
      " 14  BuildingArea   13742 non-null  float64\n",
      " 15  YearBuilt      15551 non-null  float64\n",
      " 16  CouncilArea    34854 non-null  object \n",
      " 17  Lattitude      26881 non-null  float64\n",
      " 18  Longtitude     26881 non-null  float64\n",
      " 19  Regionname     34854 non-null  object \n",
      " 20  Propertycount  34854 non-null  float64\n",
      "dtypes: float64(12), int64(1), object(8)\n",
      "memory usage: 5.6+ MB\n"
     ]
    }
   ],
   "source": [
    "df.info()"
   ]
  },
  {
   "cell_type": "code",
   "execution_count": 4,
   "metadata": {},
   "outputs": [
    {
     "data": {
      "text/html": [
       "<div>\n",
       "<style scoped>\n",
       "    .dataframe tbody tr th:only-of-type {\n",
       "        vertical-align: middle;\n",
       "    }\n",
       "\n",
       "    .dataframe tbody tr th {\n",
       "        vertical-align: top;\n",
       "    }\n",
       "\n",
       "    .dataframe thead th {\n",
       "        text-align: right;\n",
       "    }\n",
       "</style>\n",
       "<table border=\"1\" class=\"dataframe\">\n",
       "  <thead>\n",
       "    <tr style=\"text-align: right;\">\n",
       "      <th></th>\n",
       "      <th>Rooms</th>\n",
       "      <th>Price</th>\n",
       "      <th>Distance</th>\n",
       "      <th>Postcode</th>\n",
       "      <th>Bedroom2</th>\n",
       "      <th>Bathroom</th>\n",
       "      <th>Car</th>\n",
       "      <th>Landsize</th>\n",
       "      <th>BuildingArea</th>\n",
       "      <th>YearBuilt</th>\n",
       "      <th>Lattitude</th>\n",
       "      <th>Longtitude</th>\n",
       "      <th>Propertycount</th>\n",
       "    </tr>\n",
       "  </thead>\n",
       "  <tbody>\n",
       "    <tr>\n",
       "      <th>count</th>\n",
       "      <td>34857.000000</td>\n",
       "      <td>2.724700e+04</td>\n",
       "      <td>34856.000000</td>\n",
       "      <td>34856.000000</td>\n",
       "      <td>26640.000000</td>\n",
       "      <td>26631.000000</td>\n",
       "      <td>26129.000000</td>\n",
       "      <td>23047.000000</td>\n",
       "      <td>13742.00000</td>\n",
       "      <td>15551.000000</td>\n",
       "      <td>26881.000000</td>\n",
       "      <td>26881.000000</td>\n",
       "      <td>34854.000000</td>\n",
       "    </tr>\n",
       "    <tr>\n",
       "      <th>mean</th>\n",
       "      <td>3.031012</td>\n",
       "      <td>1.050173e+06</td>\n",
       "      <td>11.184929</td>\n",
       "      <td>3116.062859</td>\n",
       "      <td>3.084647</td>\n",
       "      <td>1.624798</td>\n",
       "      <td>1.728845</td>\n",
       "      <td>593.598993</td>\n",
       "      <td>160.25640</td>\n",
       "      <td>1965.289885</td>\n",
       "      <td>-37.810634</td>\n",
       "      <td>145.001851</td>\n",
       "      <td>7572.888306</td>\n",
       "    </tr>\n",
       "    <tr>\n",
       "      <th>std</th>\n",
       "      <td>0.969933</td>\n",
       "      <td>6.414671e+05</td>\n",
       "      <td>6.788892</td>\n",
       "      <td>109.023903</td>\n",
       "      <td>0.980690</td>\n",
       "      <td>0.724212</td>\n",
       "      <td>1.010771</td>\n",
       "      <td>3398.841946</td>\n",
       "      <td>401.26706</td>\n",
       "      <td>37.328178</td>\n",
       "      <td>0.090279</td>\n",
       "      <td>0.120169</td>\n",
       "      <td>4428.090313</td>\n",
       "    </tr>\n",
       "    <tr>\n",
       "      <th>min</th>\n",
       "      <td>1.000000</td>\n",
       "      <td>8.500000e+04</td>\n",
       "      <td>0.000000</td>\n",
       "      <td>3000.000000</td>\n",
       "      <td>0.000000</td>\n",
       "      <td>0.000000</td>\n",
       "      <td>0.000000</td>\n",
       "      <td>0.000000</td>\n",
       "      <td>0.00000</td>\n",
       "      <td>1196.000000</td>\n",
       "      <td>-38.190430</td>\n",
       "      <td>144.423790</td>\n",
       "      <td>83.000000</td>\n",
       "    </tr>\n",
       "    <tr>\n",
       "      <th>25%</th>\n",
       "      <td>2.000000</td>\n",
       "      <td>6.350000e+05</td>\n",
       "      <td>6.400000</td>\n",
       "      <td>3051.000000</td>\n",
       "      <td>2.000000</td>\n",
       "      <td>1.000000</td>\n",
       "      <td>1.000000</td>\n",
       "      <td>224.000000</td>\n",
       "      <td>102.00000</td>\n",
       "      <td>1940.000000</td>\n",
       "      <td>-37.862950</td>\n",
       "      <td>144.933500</td>\n",
       "      <td>4385.000000</td>\n",
       "    </tr>\n",
       "    <tr>\n",
       "      <th>50%</th>\n",
       "      <td>3.000000</td>\n",
       "      <td>8.700000e+05</td>\n",
       "      <td>10.300000</td>\n",
       "      <td>3103.000000</td>\n",
       "      <td>3.000000</td>\n",
       "      <td>2.000000</td>\n",
       "      <td>2.000000</td>\n",
       "      <td>521.000000</td>\n",
       "      <td>136.00000</td>\n",
       "      <td>1970.000000</td>\n",
       "      <td>-37.807600</td>\n",
       "      <td>145.007800</td>\n",
       "      <td>6763.000000</td>\n",
       "    </tr>\n",
       "    <tr>\n",
       "      <th>75%</th>\n",
       "      <td>4.000000</td>\n",
       "      <td>1.295000e+06</td>\n",
       "      <td>14.000000</td>\n",
       "      <td>3156.000000</td>\n",
       "      <td>4.000000</td>\n",
       "      <td>2.000000</td>\n",
       "      <td>2.000000</td>\n",
       "      <td>670.000000</td>\n",
       "      <td>188.00000</td>\n",
       "      <td>2000.000000</td>\n",
       "      <td>-37.754100</td>\n",
       "      <td>145.071900</td>\n",
       "      <td>10412.000000</td>\n",
       "    </tr>\n",
       "    <tr>\n",
       "      <th>max</th>\n",
       "      <td>16.000000</td>\n",
       "      <td>1.120000e+07</td>\n",
       "      <td>48.100000</td>\n",
       "      <td>3978.000000</td>\n",
       "      <td>30.000000</td>\n",
       "      <td>12.000000</td>\n",
       "      <td>26.000000</td>\n",
       "      <td>433014.000000</td>\n",
       "      <td>44515.00000</td>\n",
       "      <td>2106.000000</td>\n",
       "      <td>-37.390200</td>\n",
       "      <td>145.526350</td>\n",
       "      <td>21650.000000</td>\n",
       "    </tr>\n",
       "  </tbody>\n",
       "</table>\n",
       "</div>"
      ],
      "text/plain": [
       "              Rooms         Price      Distance      Postcode      Bedroom2  \\\n",
       "count  34857.000000  2.724700e+04  34856.000000  34856.000000  26640.000000   \n",
       "mean       3.031012  1.050173e+06     11.184929   3116.062859      3.084647   \n",
       "std        0.969933  6.414671e+05      6.788892    109.023903      0.980690   \n",
       "min        1.000000  8.500000e+04      0.000000   3000.000000      0.000000   \n",
       "25%        2.000000  6.350000e+05      6.400000   3051.000000      2.000000   \n",
       "50%        3.000000  8.700000e+05     10.300000   3103.000000      3.000000   \n",
       "75%        4.000000  1.295000e+06     14.000000   3156.000000      4.000000   \n",
       "max       16.000000  1.120000e+07     48.100000   3978.000000     30.000000   \n",
       "\n",
       "           Bathroom           Car       Landsize  BuildingArea     YearBuilt  \\\n",
       "count  26631.000000  26129.000000   23047.000000   13742.00000  15551.000000   \n",
       "mean       1.624798      1.728845     593.598993     160.25640   1965.289885   \n",
       "std        0.724212      1.010771    3398.841946     401.26706     37.328178   \n",
       "min        0.000000      0.000000       0.000000       0.00000   1196.000000   \n",
       "25%        1.000000      1.000000     224.000000     102.00000   1940.000000   \n",
       "50%        2.000000      2.000000     521.000000     136.00000   1970.000000   \n",
       "75%        2.000000      2.000000     670.000000     188.00000   2000.000000   \n",
       "max       12.000000     26.000000  433014.000000   44515.00000   2106.000000   \n",
       "\n",
       "          Lattitude    Longtitude  Propertycount  \n",
       "count  26881.000000  26881.000000   34854.000000  \n",
       "mean     -37.810634    145.001851    7572.888306  \n",
       "std        0.090279      0.120169    4428.090313  \n",
       "min      -38.190430    144.423790      83.000000  \n",
       "25%      -37.862950    144.933500    4385.000000  \n",
       "50%      -37.807600    145.007800    6763.000000  \n",
       "75%      -37.754100    145.071900   10412.000000  \n",
       "max      -37.390200    145.526350   21650.000000  "
      ]
     },
     "execution_count": 4,
     "metadata": {},
     "output_type": "execute_result"
    }
   ],
   "source": [
    "df.describe()"
   ]
  },
  {
   "cell_type": "code",
   "execution_count": 5,
   "metadata": {
    "scrolled": true
   },
   "outputs": [
    {
     "data": {
      "text/plain": [
       "(34857, 21)"
      ]
     },
     "execution_count": 5,
     "metadata": {},
     "output_type": "execute_result"
    }
   ],
   "source": [
    "df.shape"
   ]
  },
  {
   "cell_type": "code",
   "execution_count": 6,
   "metadata": {},
   "outputs": [
    {
     "data": {
      "text/html": [
       "<div>\n",
       "<style scoped>\n",
       "    .dataframe tbody tr th:only-of-type {\n",
       "        vertical-align: middle;\n",
       "    }\n",
       "\n",
       "    .dataframe tbody tr th {\n",
       "        vertical-align: top;\n",
       "    }\n",
       "\n",
       "    .dataframe thead th {\n",
       "        text-align: right;\n",
       "    }\n",
       "</style>\n",
       "<table border=\"1\" class=\"dataframe\">\n",
       "  <thead>\n",
       "    <tr style=\"text-align: right;\">\n",
       "      <th></th>\n",
       "      <th>Suburb</th>\n",
       "      <th>Address</th>\n",
       "      <th>Rooms</th>\n",
       "      <th>Type</th>\n",
       "      <th>Price</th>\n",
       "      <th>Method</th>\n",
       "      <th>SellerG</th>\n",
       "      <th>Date</th>\n",
       "      <th>Distance</th>\n",
       "      <th>Postcode</th>\n",
       "      <th>...</th>\n",
       "      <th>Bathroom</th>\n",
       "      <th>Car</th>\n",
       "      <th>Landsize</th>\n",
       "      <th>BuildingArea</th>\n",
       "      <th>YearBuilt</th>\n",
       "      <th>CouncilArea</th>\n",
       "      <th>Lattitude</th>\n",
       "      <th>Longtitude</th>\n",
       "      <th>Regionname</th>\n",
       "      <th>Propertycount</th>\n",
       "    </tr>\n",
       "  </thead>\n",
       "  <tbody>\n",
       "    <tr>\n",
       "      <th>0</th>\n",
       "      <td>Abbotsford</td>\n",
       "      <td>68 Studley St</td>\n",
       "      <td>2</td>\n",
       "      <td>h</td>\n",
       "      <td>NaN</td>\n",
       "      <td>SS</td>\n",
       "      <td>Jellis</td>\n",
       "      <td>3/09/2016</td>\n",
       "      <td>2.5</td>\n",
       "      <td>3067.0</td>\n",
       "      <td>...</td>\n",
       "      <td>1.0</td>\n",
       "      <td>1.0</td>\n",
       "      <td>126.0</td>\n",
       "      <td>NaN</td>\n",
       "      <td>NaN</td>\n",
       "      <td>Yarra City Council</td>\n",
       "      <td>-37.8014</td>\n",
       "      <td>144.9958</td>\n",
       "      <td>Northern Metropolitan</td>\n",
       "      <td>4019.0</td>\n",
       "    </tr>\n",
       "    <tr>\n",
       "      <th>1</th>\n",
       "      <td>Abbotsford</td>\n",
       "      <td>85 Turner St</td>\n",
       "      <td>2</td>\n",
       "      <td>h</td>\n",
       "      <td>1480000.0</td>\n",
       "      <td>S</td>\n",
       "      <td>Biggin</td>\n",
       "      <td>3/12/2016</td>\n",
       "      <td>2.5</td>\n",
       "      <td>3067.0</td>\n",
       "      <td>...</td>\n",
       "      <td>1.0</td>\n",
       "      <td>1.0</td>\n",
       "      <td>202.0</td>\n",
       "      <td>NaN</td>\n",
       "      <td>NaN</td>\n",
       "      <td>Yarra City Council</td>\n",
       "      <td>-37.7996</td>\n",
       "      <td>144.9984</td>\n",
       "      <td>Northern Metropolitan</td>\n",
       "      <td>4019.0</td>\n",
       "    </tr>\n",
       "    <tr>\n",
       "      <th>2</th>\n",
       "      <td>Abbotsford</td>\n",
       "      <td>25 Bloomburg St</td>\n",
       "      <td>2</td>\n",
       "      <td>h</td>\n",
       "      <td>1035000.0</td>\n",
       "      <td>S</td>\n",
       "      <td>Biggin</td>\n",
       "      <td>4/02/2016</td>\n",
       "      <td>2.5</td>\n",
       "      <td>3067.0</td>\n",
       "      <td>...</td>\n",
       "      <td>1.0</td>\n",
       "      <td>0.0</td>\n",
       "      <td>156.0</td>\n",
       "      <td>79.0</td>\n",
       "      <td>1900.0</td>\n",
       "      <td>Yarra City Council</td>\n",
       "      <td>-37.8079</td>\n",
       "      <td>144.9934</td>\n",
       "      <td>Northern Metropolitan</td>\n",
       "      <td>4019.0</td>\n",
       "    </tr>\n",
       "    <tr>\n",
       "      <th>3</th>\n",
       "      <td>Abbotsford</td>\n",
       "      <td>18/659 Victoria St</td>\n",
       "      <td>3</td>\n",
       "      <td>u</td>\n",
       "      <td>NaN</td>\n",
       "      <td>VB</td>\n",
       "      <td>Rounds</td>\n",
       "      <td>4/02/2016</td>\n",
       "      <td>2.5</td>\n",
       "      <td>3067.0</td>\n",
       "      <td>...</td>\n",
       "      <td>2.0</td>\n",
       "      <td>1.0</td>\n",
       "      <td>0.0</td>\n",
       "      <td>NaN</td>\n",
       "      <td>NaN</td>\n",
       "      <td>Yarra City Council</td>\n",
       "      <td>-37.8114</td>\n",
       "      <td>145.0116</td>\n",
       "      <td>Northern Metropolitan</td>\n",
       "      <td>4019.0</td>\n",
       "    </tr>\n",
       "    <tr>\n",
       "      <th>4</th>\n",
       "      <td>Abbotsford</td>\n",
       "      <td>5 Charles St</td>\n",
       "      <td>3</td>\n",
       "      <td>h</td>\n",
       "      <td>1465000.0</td>\n",
       "      <td>SP</td>\n",
       "      <td>Biggin</td>\n",
       "      <td>4/03/2017</td>\n",
       "      <td>2.5</td>\n",
       "      <td>3067.0</td>\n",
       "      <td>...</td>\n",
       "      <td>2.0</td>\n",
       "      <td>0.0</td>\n",
       "      <td>134.0</td>\n",
       "      <td>150.0</td>\n",
       "      <td>1900.0</td>\n",
       "      <td>Yarra City Council</td>\n",
       "      <td>-37.8093</td>\n",
       "      <td>144.9944</td>\n",
       "      <td>Northern Metropolitan</td>\n",
       "      <td>4019.0</td>\n",
       "    </tr>\n",
       "  </tbody>\n",
       "</table>\n",
       "<p>5 rows × 21 columns</p>\n",
       "</div>"
      ],
      "text/plain": [
       "       Suburb             Address  Rooms Type      Price Method SellerG  \\\n",
       "0  Abbotsford       68 Studley St      2    h        NaN     SS  Jellis   \n",
       "1  Abbotsford        85 Turner St      2    h  1480000.0      S  Biggin   \n",
       "2  Abbotsford     25 Bloomburg St      2    h  1035000.0      S  Biggin   \n",
       "3  Abbotsford  18/659 Victoria St      3    u        NaN     VB  Rounds   \n",
       "4  Abbotsford        5 Charles St      3    h  1465000.0     SP  Biggin   \n",
       "\n",
       "        Date  Distance  Postcode  ...  Bathroom  Car  Landsize  BuildingArea  \\\n",
       "0  3/09/2016       2.5    3067.0  ...       1.0  1.0     126.0           NaN   \n",
       "1  3/12/2016       2.5    3067.0  ...       1.0  1.0     202.0           NaN   \n",
       "2  4/02/2016       2.5    3067.0  ...       1.0  0.0     156.0          79.0   \n",
       "3  4/02/2016       2.5    3067.0  ...       2.0  1.0       0.0           NaN   \n",
       "4  4/03/2017       2.5    3067.0  ...       2.0  0.0     134.0         150.0   \n",
       "\n",
       "   YearBuilt         CouncilArea Lattitude  Longtitude             Regionname  \\\n",
       "0        NaN  Yarra City Council  -37.8014    144.9958  Northern Metropolitan   \n",
       "1        NaN  Yarra City Council  -37.7996    144.9984  Northern Metropolitan   \n",
       "2     1900.0  Yarra City Council  -37.8079    144.9934  Northern Metropolitan   \n",
       "3        NaN  Yarra City Council  -37.8114    145.0116  Northern Metropolitan   \n",
       "4     1900.0  Yarra City Council  -37.8093    144.9944  Northern Metropolitan   \n",
       "\n",
       "  Propertycount  \n",
       "0        4019.0  \n",
       "1        4019.0  \n",
       "2        4019.0  \n",
       "3        4019.0  \n",
       "4        4019.0  \n",
       "\n",
       "[5 rows x 21 columns]"
      ]
     },
     "execution_count": 6,
     "metadata": {},
     "output_type": "execute_result"
    }
   ],
   "source": [
    "df.head()"
   ]
  },
  {
   "cell_type": "markdown",
   "metadata": {},
   "source": [
    "## 2. Исследуем зависимую переменную"
   ]
  },
  {
   "cell_type": "markdown",
   "metadata": {},
   "source": [
    "### 2.1 Распределение, описательные характеристики"
   ]
  },
  {
   "cell_type": "code",
   "execution_count": 7,
   "metadata": {},
   "outputs": [],
   "source": [
    "target = df['Price']\n",
    "target_mean = target.mean()\n",
    "target_median = target.median()"
   ]
  },
  {
   "cell_type": "code",
   "execution_count": 8,
   "metadata": {},
   "outputs": [
    {
     "data": {
      "image/png": "[encoded data removed]",
      "text/plain": [
       "<Figure size 576x432 with 1 Axes>"
      ]
     },
     "metadata": {
      "needs_background": "light"
     },
     "output_type": "display_data"
    },
    {
     "name": "stdout",
     "output_type": "stream",
     "text": [
      "Коэффицент ассиметрии: 2.5889693410528607\n",
      "Коэффициент эксцесса: 13.09720051555638\n"
     ]
    }
   ],
   "source": [
    "plt.figure(figsize = (8, 6))\n",
    "sns.distplot(df['Price'], color='steelblue')\n",
    "\n",
    "n = np.linspace(0, 0.000001, 100)\n",
    "plt.plot([target_mean] * 100, n, label='mean', linestyle=':', linewidth=2, c='k')\n",
    "plt.plot([target_median] * 100, n, label='median', linestyle='--', linewidth=2, c ='deeppink')\n",
    "\n",
    "plt.title('Распределение цены')\n",
    "plt.grid(c='lightgray')\n",
    "plt.legend()\n",
    "plt.show()\n",
    "\n",
    "print(f'Коэффицент ассиметрии: {target.skew()}')\n",
    "print(f'Коэффициент эксцесса: {target.kurt()}')"
   ]
  },
  {
   "cell_type": "markdown",
   "metadata": {},
   "source": [
    "### 2.2. Исследование на нормальность"
   ]
  },
  {
   "cell_type": "code",
   "execution_count": 52,
   "metadata": {},
   "outputs": [
    {
     "data": {
      "image/png": "[encoded data removed]",
      "text/plain": [
       "<Figure size 432x288 with 1 Axes>"
      ]
     },
     "metadata": {
      "needs_background": "light"
     },
     "output_type": "display_data"
    }
   ],
   "source": [
    "loc = df['Price'].mean()\n",
    "scale = df['Price'].std()\n",
    "\n",
    "interval = np.linspace(0, 1, df['Price'].shape[0])[1:-1]\n",
    "x = stats.norm.ppf(interval, loc=loc, scale=scale)\n",
    "y = np.quantile(df['Price'], interval)\n",
    "\n",
    "plt.scatter(x, y, s=5, c='k')\n",
    "plt.plot(x, x, color='r', linestyle='--')\n",
    "\n",
    "\n",
    "plt.title('Price')\n",
    "plt.xlabel('Теоретические квантили')\n",
    "plt.ylabel('Квантили выборки')\n",
    "plt.show()"
   ]
  },
  {
   "cell_type": "markdown",
   "metadata": {},
   "source": [
    "Итак, распределение зависимой переменной имеет ярко выраженный пик, длинный \"хвост\" и достаточно приближенно к нормальному. "
   ]
  },
  {
   "cell_type": "markdown",
   "metadata": {},
   "source": [
    "## 3. Исследуем факторы"
   ]
  },
  {
   "cell_type": "markdown",
   "metadata": {},
   "source": [
    "### 3.1. Анализ пропусков"
   ]
  },
  {
   "cell_type": "code",
   "execution_count": 10,
   "metadata": {},
   "outputs": [
    {
     "data": {
      "image/png": "[encoded data removed]",
      "text/plain": [
       "<Figure size 864x288 with 1 Axes>"
      ]
     },
     "metadata": {
      "needs_background": "light"
     },
     "output_type": "display_data"
    }
   ],
   "source": [
    "nan_df = (df.isna().sum() / df.shape[0]).reset_index()\n",
    "nan_df.columns=['feature', 'nan_percent']\n",
    "\n",
    "plt.figure(figsize=(12,4))\n",
    "sns.barplot(nan_df['feature'], nan_df['nan_percent'], palette='Blues')\n",
    "plt.title('Percent Missing')\n",
    "plt.ylabel('Missing', fontsize=12)\n",
    "plt.xlabel('Features', fontsize=12)\n",
    "plt.xticks(rotation=90)\n",
    "plt.show()"
   ]
  },
  {
   "cell_type": "markdown",
   "metadata": {},
   "source": [
    "Наибольшое количество пропусков содержится в значениях площади объекта и его года постройки. Для целей дальнейшего анализа пропуски заменяются на медианные значения."
   ]
  },
  {
   "cell_type": "markdown",
   "metadata": {},
   "source": [
    "### 3. 2. Очистка данных:"
   ]
  },
  {
   "cell_type": "code",
   "execution_count": 11,
   "metadata": {},
   "outputs": [],
   "source": [
    "class FeatureImputer:\n",
    "    \"\"\"Заполнение пропусков и обработка выбросов\"\"\"\n",
    "    \n",
    "    def __init__(self):\n",
    "        self.medians=None\n",
    "        \n",
    "    def fit(self, X):\n",
    "        # задаем медианы\n",
    "        self.medians = X.median()\n",
    "        self.modes = X.mode()\n",
    "        \n",
    "            \n",
    "    def transform(self, X):\n",
    "        \n",
    "        # Обработка пропусков в данных\n",
    "        \n",
    "        X['Price'].fillna(self.medians['Price'], inplace=True) \n",
    "        X['Car'].fillna(self.medians['Car'], inplace=True)\n",
    "        X['Rooms'].fillna(self.medians['Rooms'], inplace=True)\n",
    "        X['YearBuilt'].fillna(self.medians['YearBuilt'], inplace=True)\n",
    "        X['Bedroom2'].fillna(self.medians['Bedroom2'], inplace=True)\n",
    "        X['Bathroom'].fillna(self.medians['Bathroom'], inplace=True)\n",
    "        X['Postcode'].fillna(self.medians['Postcode'], inplace=True)\n",
    "        X['Method'].fillna(self.modes['Method'][0], inplace=True)\n",
    "        X['CouncilArea'].fillna(self.modes['CouncilArea'][0], inplace=True)\n",
    "        X['Regionname'].fillna(self.modes['Regionname'][0], inplace=True)\n",
    "        X['Distance'].fillna(self.modes['Distance'][0], inplace=True)\n",
    "        X['BuildingArea'].fillna(self.medians['BuildingArea'], inplace=True)\n",
    "        X['Landsize'].fillna(self.medians['Landsize'], inplace=True)\n",
    "        X['Lattitude'].fillna(self.medians['Lattitude'], inplace=True)\n",
    "        X['Longtitude'].fillna(self.medians['Longtitude'], inplace=True)\n",
    "        X['YearBuilt'].fillna(self.medians['YearBuilt'], inplace=True)\n",
    "        \n",
    "        \n",
    "        # Обработка выбросов в данных\n",
    "        X.loc[X['Bathroom'] >= 6, 'Bathroom'] = self.medians['Bathroom']\n",
    "        X.loc[X['Bedroom2'] >= 10, 'Bedroom2'] = self.medians['Bedroom2']\n",
    "        X.loc[X['BuildingArea'] > 1000, 'BuildingArea'] = self.medians['BuildingArea']\n",
    "        X.loc[X['BuildingArea'] == 0, 'BuildingArea'] = self.medians['BuildingArea']\n",
    "        X.loc[X['BuildingArea'].isna(), 'BuildingArea'] = X.loc[X['BuildingArea'].isna(), 'Landsize'] // 2\n",
    "        X.loc[X['Car'] > 8, 'Car'] = self.medians['Car']\n",
    "        X.loc[X['Landsize'] > 1000, 'Landsize'] = self.medians['Landsize']\n",
    "        X.loc[X['Landsize'] == 0, 'Landsize'] = self.medians['Landsize']\n",
    "        X.loc[X['YearBuilt'] > 2020, 'YearBuilt'] = self.medians['YearBuilt']\n",
    "        X.loc[X['YearBuilt'] < 1800, 'YearBuilt'] = self.medians['YearBuilt']\n",
    "\n",
    "        return X"
   ]
  },
  {
   "cell_type": "code",
   "execution_count": 12,
   "metadata": {},
   "outputs": [],
   "source": [
    "imputer = FeatureImputer()\n",
    "imputer.fit(df)\n",
    "\n",
    "df = imputer.transform(df)"
   ]
  },
  {
   "cell_type": "markdown",
   "metadata": {},
   "source": [
    "### 3.3. Распределения количественных переменных:"
   ]
  },
  {
   "cell_type": "code",
   "execution_count": 13,
   "metadata": {},
   "outputs": [
    {
     "data": {
      "image/png": "[encoded data removed]",
      "text/plain": [
       "<Figure size 864x864 with 6 Axes>"
      ]
     },
     "metadata": {
      "needs_background": "light"
     },
     "output_type": "display_data"
    }
   ],
   "source": [
    "num_features = ['BuildingArea', 'Landsize', 'Distance', 'Lattitude', 'Longtitude']\n",
    "df[num_features].hist(figsize=(12,12), bins=20, color='lightslategrey', grid=False)\n",
    "plt.show()"
   ]
  },
  {
   "cell_type": "markdown",
   "metadata": {},
   "source": [
    "### 3.4. Распределения категориальных переменных:"
   ]
  },
  {
   "cell_type": "code",
   "execution_count": 14,
   "metadata": {},
   "outputs": [
    {
     "data": {
      "image/png": "[encoded data removed]",
      "text/plain": [
       "<Figure size 864x864 with 9 Axes>"
      ]
     },
     "metadata": {
      "needs_background": "light"
     },
     "output_type": "display_data"
    }
   ],
   "source": [
    "cat_features = ['Suburb', 'Rooms', 'Postcode', 'Bedroom2', 'Bathroom', 'Car', 'YearBuilt', 'Propertycount']\n",
    "df[cat_features].hist(figsize=(12,12), bins=20, color='lightslategrey', grid=False)\n",
    "plt.show()"
   ]
  },
  {
   "cell_type": "markdown",
   "metadata": {},
   "source": [
    "Анализ соотношения строковых категориальных переменных показывает относительно равномерное распределение всех значений:"
   ]
  },
  {
   "cell_type": "code",
   "execution_count": 15,
   "metadata": {},
   "outputs": [
    {
     "data": {
      "text/plain": [
       "<matplotlib.axes._subplots.AxesSubplot at 0x7ffbb83065e0>"
      ]
     },
     "execution_count": 15,
     "metadata": {},
     "output_type": "execute_result"
    },
    {
     "data": {
      "image/png": "[encoded data removed]",
      "text/plain": [
       "<Figure size 432x288 with 1 Axes>"
      ]
     },
     "metadata": {
      "needs_background": "light"
     },
     "output_type": "display_data"
    }
   ],
   "source": [
    "sns.barplot(x=df['Type'], y=df[\"Price\"], palette='GnBu_d')"
   ]
  },
  {
   "cell_type": "code",
   "execution_count": 16,
   "metadata": {
    "scrolled": true
   },
   "outputs": [
    {
     "data": {
      "text/plain": [
       "<matplotlib.axes._subplots.AxesSubplot at 0x7ffbb7abca60>"
      ]
     },
     "execution_count": 16,
     "metadata": {},
     "output_type": "execute_result"
    },
    {
     "data": {
      "image/png": "[encoded data removed]",
      "text/plain": [
       "<Figure size 432x288 with 1 Axes>"
      ]
     },
     "metadata": {
      "needs_background": "light"
     },
     "output_type": "display_data"
    }
   ],
   "source": [
    "sns.barplot(x=df['Method'], y=df[\"Price\"], palette='GnBu_d')"
   ]
  },
  {
   "cell_type": "markdown",
   "metadata": {},
   "source": [
    "## 4. Поиск зависимостей"
   ]
  },
  {
   "cell_type": "markdown",
   "metadata": {},
   "source": [
    "### 4.1. Корреляционный анализ"
   ]
  },
  {
   "cell_type": "code",
   "execution_count": 17,
   "metadata": {},
   "outputs": [
    {
     "data": {
      "text/plain": [
       "Text(0.5, 1, 'Correlation matrix')"
      ]
     },
     "execution_count": 17,
     "metadata": {},
     "output_type": "execute_result"
    },
    {
     "data": {
      "image/png": "[encoded data removed]",
      "text/plain": [
       "<Figure size 864x720 with 2 Axes>"
      ]
     },
     "metadata": {
      "needs_background": "light"
     },
     "output_type": "display_data"
    }
   ],
   "source": [
    "plt.figure(figsize = (12, 10))\n",
    "sns.heatmap(df.corr(), annot=True, cmap=\"Blues\")\n",
    "plt.title('Correlation matrix')"
   ]
  },
  {
   "cell_type": "markdown",
   "metadata": {},
   "source": [
    "#### Выводы по корреляционному анализу:"
   ]
  },
  {
   "cell_type": "markdown",
   "metadata": {},
   "source": [
    "1. Матрица корреляции Пирсона продемонстрировала наибольшую зависимость цены от количества комнат (Rooms), спален (Bedroom2), ванных комнат (Bathroom). \n",
    "2. В целом между признаками, характеризующими количество комнат (всего и определенного типа) также наблюдается сильная корреляция. \n",
    "3. Наблюдается невысокая обратная корреляцая цены и расстояния до делового центра города - чем удаленнее от центра объект, тем ниже его цена.\n",
    "4. Схожая обратная зависимость наблюдается при корреляционном анализе цены и года постройки объекта.\n",
    "5. Долгота незначительно положительно коррелирует с ценой - чем восточнее объект, тем выше цена. В свою очередь широта незначительно отрицательно коррелирует со стоимостью. Чем южнее объект недвижимости, тем более вероятно он дороже. Это соотносится с тем, что с юга Мельбрун омывается заливом.\n",
    "\n",
    "<img src=\"https://www.godsofwarmc.com/wp-content/uploads/2019/11/Melbourne-Map-300x286.png\" width=400 height=400 />"
   ]
  },
  {
   "cell_type": "markdown",
   "metadata": {},
   "source": [
    "Данную тенденцию можно увидеть и на boxplot, отражающем распределение стоимости объекта в зависимости от района - объекты, расположенные в районе Southern Metropoliten, более дорогие."
   ]
  },
  {
   "cell_type": "code",
   "execution_count": 18,
   "metadata": {},
   "outputs": [
    {
     "data": {
      "image/png": "[encoded data removed]",
      "text/plain": [
       "<Figure size 864x432 with 1 Axes>"
      ]
     },
     "metadata": {
      "needs_background": "light"
     },
     "output_type": "display_data"
    }
   ],
   "source": [
    "plt.figure(figsize=(12,6))\n",
    "sns.boxplot(x=df['Regionname'], y=df['Price'], palette=sns.diverging_palette(220, 20, n=7))\n",
    "plt.xticks(rotation=90)\n",
    "plt.show()"
   ]
  },
  {
   "cell_type": "markdown",
   "metadata": {},
   "source": [
    "#### Проверим гипотезу о том, как соотносится цена объекта и район:\n",
    "Среднее значение цены объекта по всей выборке = 1 050 173 австралийских доллара.\n",
    "\n",
    "$H_0$: Средняя стоимость объектов, расположенных в районе Southern Metropoliten, составляет 1 050 173 австралийских доллара.\n",
    "\n",
    "$H_1$: Средняя стоимость объектов, расположенных в районе Southern Metropoliten, больше 1 050 173 австралийских доллара, то есть гипотеза односторонняя."
   ]
  },
  {
   "cell_type": "code",
   "execution_count": 19,
   "metadata": {},
   "outputs": [
    {
     "data": {
      "text/plain": [
       "133      1275000.0\n",
       "134      1455000.0\n",
       "135      2850000.0\n",
       "136      1850000.0\n",
       "137       870000.0\n",
       "           ...    \n",
       "34796    1025000.0\n",
       "34797     870000.0\n",
       "34798     870000.0\n",
       "34844     440000.0\n",
       "34845     870000.0\n",
       "Name: Price, Length: 11839, dtype: float64"
      ]
     },
     "execution_count": 19,
     "metadata": {},
     "output_type": "execute_result"
    }
   ],
   "source": [
    "southern_prices = df.loc[df['Regionname'] == 'Southern Metropolitan', 'Price']\n",
    "southern_prices"
   ]
  },
  {
   "cell_type": "code",
   "execution_count": 20,
   "metadata": {},
   "outputs": [
    {
     "name": "stdout",
     "output_type": "stream",
     "text": [
      "Overall_mean \t\t1050173.34 \n",
      "Southern_houses_mean \t1248626.08\n"
     ]
    }
   ],
   "source": [
    "mu = target_mean\n",
    "n = df.shape[0]\n",
    "mean = southern_prices.mean()\n",
    "sigma = southern_prices.std()\n",
    "alpha = 0.05\n",
    "\n",
    "print(f'Overall_mean \\t\\t{round(mu, 2)} \\nSouthern_houses_mean \\t{round(mean, 2)}')"
   ]
  },
  {
   "cell_type": "markdown",
   "metadata": {},
   "source": [
    "Посчитаем t-статистику для проверки данной гипотезы по формуле:\n",
    "\n",
    "$$ t = \\frac{\\overline X - \\mu}{\\sigma_X / \\sqrt{n}}$$"
   ]
  },
  {
   "cell_type": "code",
   "execution_count": 21,
   "metadata": {},
   "outputs": [],
   "source": [
    "def t_test(mean, sigma, n, mu):\n",
    "    \"\"\"Подсчет t-статистики\n",
    "    \"\"\"\n",
    "    \n",
    "    return (mean - mu) / (sigma / n**(1/2))"
   ]
  },
  {
   "cell_type": "code",
   "execution_count": 22,
   "metadata": {},
   "outputs": [
    {
     "data": {
      "text/plain": [
       "48.44092201661269"
      ]
     },
     "execution_count": 22,
     "metadata": {},
     "output_type": "execute_result"
    }
   ],
   "source": [
    "t_test(mean, sigma, n, mu)"
   ]
  },
  {
   "cell_type": "markdown",
   "metadata": {},
   "source": [
    "Определим критическую область при уровне значимости 0.05:"
   ]
  },
  {
   "cell_type": "code",
   "execution_count": 23,
   "metadata": {},
   "outputs": [
    {
     "data": {
      "text/plain": [
       "1.9600320460562455"
      ]
     },
     "execution_count": 23,
     "metadata": {},
     "output_type": "execute_result"
    }
   ],
   "source": [
    "t = stats.t.ppf(1 - alpha / 2, df = n -1)\n",
    "t"
   ]
  },
  {
   "cell_type": "markdown",
   "metadata": {},
   "source": [
    "Критическая область: $\\Omega_{\\alpha} = (1.96, +\\infty)$"
   ]
  },
  {
   "cell_type": "markdown",
   "metadata": {},
   "source": [
    "Статистика попадает в критическую область => $H_0$ отвергается, и стоимость объектов домов в районе Southern Metropolinen действительно больше 1 050 173 австралийских доллара."
   ]
  },
  {
   "cell_type": "markdown",
   "metadata": {},
   "source": [
    "#### Проверим гипотезу о том, как соотносится район объекта и его размер. \n",
    "Средняя площадь объекта составляет 143.61 м$^2$.\n",
    "\n",
    "$H_0$ Среднее значение площади объекта в районе Northern Metropolitan равно 143.61 м$^2$.\n",
    "\n",
    "$H_1$ Среднее значение площади объекта в районе Northern Metropolitan отлично от 143.61 м$^2$."
   ]
  },
  {
   "cell_type": "code",
   "execution_count": 24,
   "metadata": {},
   "outputs": [
    {
     "data": {
      "text/plain": [
       "0        136.0\n",
       "1        136.0\n",
       "2         79.0\n",
       "3        136.0\n",
       "4        150.0\n",
       "         ...  \n",
       "34846    136.0\n",
       "34847    118.0\n",
       "34848    136.0\n",
       "34849    158.0\n",
       "34850    135.0\n",
       "Name: BuildingArea, Length: 9557, dtype: float64"
      ]
     },
     "execution_count": 24,
     "metadata": {},
     "output_type": "execute_result"
    }
   ],
   "source": [
    "nothern_BuildingArea = df.loc[df['Regionname'] == 'Northern Metropolitan', 'BuildingArea']\n",
    "nothern_BuildingArea"
   ]
  },
  {
   "cell_type": "code",
   "execution_count": 25,
   "metadata": {},
   "outputs": [
    {
     "name": "stdout",
     "output_type": "stream",
     "text": [
      "Overall_mean \t\t\t143.61 \n",
      "Northern_BuildingArea_mean \t134.85\n"
     ]
    }
   ],
   "source": [
    "mu = df['BuildingArea'].mean()\n",
    "n = df.shape[0]\n",
    "mean = nothern_BuildingArea.mean()\n",
    "sigma = nothern_BuildingArea.std()\n",
    "alpha = 0.05\n",
    "\n",
    "print(f'Overall_mean \\t\\t\\t{round(mu, 2)} \\nNorthern_BuildingArea_mean \\t{round(mean, 2)}')"
   ]
  },
  {
   "cell_type": "markdown",
   "metadata": {},
   "source": [
    "Посчитаем t-статистику:"
   ]
  },
  {
   "cell_type": "code",
   "execution_count": 26,
   "metadata": {},
   "outputs": [
    {
     "data": {
      "text/plain": [
       "-36.040107505333445"
      ]
     },
     "execution_count": 26,
     "metadata": {},
     "output_type": "execute_result"
    }
   ],
   "source": [
    "t_test(mean, sigma, n, mu)"
   ]
  },
  {
   "cell_type": "code",
   "execution_count": 27,
   "metadata": {},
   "outputs": [
    {
     "data": {
      "text/plain": [
       "(-1.960032046056246, 1.9600320460562455)"
      ]
     },
     "execution_count": 27,
     "metadata": {},
     "output_type": "execute_result"
    }
   ],
   "source": [
    "t1 = stats.t.ppf(alpha / 2, df = n-1)\n",
    "t2 = stats.t.ppf(1 - alpha / 2, df = n -1)\n",
    "\n",
    "t1, t2"
   ]
  },
  {
   "cell_type": "markdown",
   "metadata": {},
   "source": [
    "Критическая область: $\\Omega_{\\alpha} = (-\\infty, -1.96) \\cup (1.96, +\\infty)$\n",
    "\n",
    "\n",
    "Статистика попадает в критическую область, следовательно $H_0$ отвергаем, дома в северном районе Northern Metropolita значимо отличаются по размеру от 143.61 м$^2$."
   ]
  },
  {
   "cell_type": "markdown",
   "metadata": {},
   "source": [
    "#### Проверим гипотезу о типе дома и его цене.\n",
    "\n",
    "$H_0$ Средняя стоимость объектов типа таунхаус в районе Western Metropolitan равна 1 050 173 австралийских доллара. \n",
    "\n",
    "$H_1$ Средняя стоимость объектов типа таунхаус в районе Western Metropolitan не равна 1 050 173 австралийских доллара. "
   ]
  },
  {
   "cell_type": "code",
   "execution_count": 28,
   "metadata": {},
   "outputs": [
    {
     "data": {
      "text/plain": [
       "66        840000.0\n",
       "71        700000.0\n",
       "74        420000.0\n",
       "75        500000.0\n",
       "82        450000.0\n",
       "           ...    \n",
       "34531     895000.0\n",
       "34564    1180000.0\n",
       "34567    1000000.0\n",
       "34726     520000.0\n",
       "34854     705000.0\n",
       "Name: Price, Length: 654, dtype: float64"
      ]
     },
     "execution_count": 28,
     "metadata": {},
     "output_type": "execute_result"
    }
   ],
   "source": [
    "w_townhouse_prices = df.loc[(df['Type'] == 't') & (df['Regionname'] == 'Western Metropolitan'), 'Price']\n",
    "w_townhouse_prices"
   ]
  },
  {
   "cell_type": "code",
   "execution_count": 29,
   "metadata": {},
   "outputs": [
    {
     "name": "stdout",
     "output_type": "stream",
     "text": [
      "Overall_mean \t\t\t1010837.8 \n",
      "w_townhouse_prices_mean \t749728.73\n"
     ]
    }
   ],
   "source": [
    "mu = df['Price'].mean()\n",
    "n = df.shape[0]\n",
    "mean = w_townhouse_prices.mean()\n",
    "sigma = w_townhouse_prices.std()\n",
    "alpha = 0.05\n",
    "\n",
    "print(f'Overall_mean \\t\\t\\t{round(mu, 2)} \\nw_townhouse_prices_mean \\t{round(mean, 2)}')"
   ]
  },
  {
   "cell_type": "markdown",
   "metadata": {},
   "source": [
    "Посчитаем t-статистику:"
   ]
  },
  {
   "cell_type": "code",
   "execution_count": 30,
   "metadata": {},
   "outputs": [
    {
     "data": {
      "text/plain": [
       "-237.26382551090816"
      ]
     },
     "execution_count": 30,
     "metadata": {},
     "output_type": "execute_result"
    }
   ],
   "source": [
    "t_test(mean, sigma, n, mu)"
   ]
  },
  {
   "cell_type": "code",
   "execution_count": 31,
   "metadata": {},
   "outputs": [
    {
     "data": {
      "text/plain": [
       "(-1.960032046056246, 1.9600320460562455)"
      ]
     },
     "execution_count": 31,
     "metadata": {},
     "output_type": "execute_result"
    }
   ],
   "source": [
    "t1 = stats.t.ppf(alpha / 2, df = n-1)\n",
    "t2 = stats.t.ppf(1 - alpha / 2, df = n -1)\n",
    "\n",
    "t1, t2"
   ]
  },
  {
   "cell_type": "markdown",
   "metadata": {},
   "source": [
    "Критическая область: $\\Omega_{\\alpha} = (-\\infty, -1.96) \\cup (1.96, +\\infty)$\n",
    "\n",
    "\n",
    "Статистика попадает в критическую область, следовательно $H_0$ отвергаем, объекты типа таунхаус в районе Western Metropolitan значимо отличаются от 1 050 173 австралийских доллара. "
   ]
  },
  {
   "cell_type": "markdown",
   "metadata": {},
   "source": [
    "#### Проверим гипотезу о возрасте дома и его стоимости:\n",
    "\n",
    "$H_0$ Средняя стоимость объектов года постройки раньше 1900 года, удаленных от центра на больше чем 10 км, равна 1 010 837 австр. долларов.\n",
    "\n",
    "$H_1$ Средняя стоимость объектов года постройки раньше 1900 года, удаленных от центра на больше чем 10 км, превышает 1 010 837 австр. долларов. Гипотеза односторонняя."
   ]
  },
  {
   "cell_type": "code",
   "execution_count": 32,
   "metadata": {},
   "outputs": [
    {
     "data": {
      "text/plain": [
       "1654     1600000.0\n",
       "1665      928000.0\n",
       "1676      870000.0\n",
       "1768      870000.0\n",
       "1873     3700000.0\n",
       "2114      870000.0\n",
       "5125     2439500.0\n",
       "6431     1500000.0\n",
       "6453      870000.0\n",
       "6514      870000.0\n",
       "10044    1530000.0\n",
       "10069    2003000.0\n",
       "10104    1650000.0\n",
       "10141     870000.0\n",
       "12316    5800000.0\n",
       "12359    2291000.0\n",
       "13036     980000.0\n",
       "13801    1600000.0\n",
       "13806     870000.0\n",
       "16943    1400000.0\n",
       "17280     870000.0\n",
       "20164     870000.0\n",
       "20801    2700000.0\n",
       "21513     870000.0\n",
       "24417     588000.0\n",
       "25408    2300000.0\n",
       "25641    5410000.0\n",
       "27597    1225000.0\n",
       "27846     870000.0\n",
       "29862     870000.0\n",
       "31522    2300000.0\n",
       "31933    2320000.0\n",
       "32171     870000.0\n",
       "33074    4600000.0\n",
       "Name: Price, dtype: float64"
      ]
     },
     "execution_count": 32,
     "metadata": {},
     "output_type": "execute_result"
    }
   ],
   "source": [
    "old_houses_far = df.loc[(df['YearBuilt'] < 1900) & (df['Distance'] > 10), 'Price']\n",
    "old_houses_far"
   ]
  },
  {
   "cell_type": "code",
   "execution_count": 33,
   "metadata": {},
   "outputs": [
    {
     "name": "stdout",
     "output_type": "stream",
     "text": [
      "Overall_mean \t\t\t1010837.8 \n",
      "old_houses_far_mean \t\t1769838.24\n"
     ]
    }
   ],
   "source": [
    "mu = df['Price'].mean()\n",
    "n = df.shape[0]\n",
    "mean = old_houses_far.mean()\n",
    "sigma = old_houses_far.std()\n",
    "alpha = 0.05\n",
    "\n",
    "print(f'Overall_mean \\t\\t\\t{round(mu, 2)} \\nold_houses_far_mean \\t\\t{round(mean, 2)}')"
   ]
  },
  {
   "cell_type": "markdown",
   "metadata": {},
   "source": [
    "Посчитаем t-статистику:"
   ]
  },
  {
   "cell_type": "code",
   "execution_count": 34,
   "metadata": {},
   "outputs": [
    {
     "data": {
      "text/plain": [
       "107.23616442775585"
      ]
     },
     "execution_count": 34,
     "metadata": {},
     "output_type": "execute_result"
    }
   ],
   "source": [
    "t_test(mean, sigma, n, mu)"
   ]
  },
  {
   "cell_type": "code",
   "execution_count": 55,
   "metadata": {},
   "outputs": [
    {
     "data": {
      "text/plain": [
       "1.9600320460562455"
      ]
     },
     "execution_count": 55,
     "metadata": {},
     "output_type": "execute_result"
    }
   ],
   "source": [
    "t = stats.t.ppf(1 - alpha / 2, df = n -1)\n",
    "\n",
    "t"
   ]
  },
  {
   "cell_type": "markdown",
   "metadata": {},
   "source": [
    "Критическая область: $\\Omega_{\\alpha} =  (1.96, +\\infty)$\n",
    "\n",
    "\n",
    "Статистика попадает в критическую область, следовательно $H_0$ отвергаем, стоимость объектов года постройки раньше 1900 г., при этом удаленных от центра более, чем на 10 км, больше, чем 1 010 837 австр. долларов."
   ]
  },
  {
   "cell_type": "markdown",
   "metadata": {},
   "source": [
    "### 4.2. Дисперсионный анализ"
   ]
  },
  {
   "cell_type": "markdown",
   "metadata": {},
   "source": [
    "Проведем дисперсионный анализ и определим значимость влияния факторов на зависимую переменную.\n",
    "Для этого найдем межгрупповую и внутригрупповую дисперсию для каждого уровна k фактора X, используя следующие формулы:\n",
    "$$S_b^2 = \\displaystyle\\sum_{i=1}^k \\left( \\overline{Y_i} - \\overline{Y} \\right)^2 n_i, \\:\\:\n",
    "S_w^{2} = \\displaystyle\\sum_{i=1}^k \\displaystyle\\sum_{j=1}^{n_i} \\left( y_{ij} - \\overline{Y_i} \\right)^2,$$\n",
    "\n",
    "Затем найдем значение F-статистики и квантиль распределения Фишера, чтобы проверить значимость влияния фактора на дисперсию зависимой переменной - стоимости объекта."
   ]
  },
  {
   "cell_type": "code",
   "execution_count": 36,
   "metadata": {},
   "outputs": [],
   "source": [
    "def one_factor_ANOVA(df, X_feature_name, Y_feature_name):\n",
    "    \"\"\"Функция подсчитывает межгрупповую и внутригрупповые дисперсии фактора, проверяет значимость влияния\n",
    "    фактора на таргет с помощью теста Фишера\"\"\"\n",
    "    \n",
    "    level_count = {}\n",
    "    level_values = {}\n",
    "    level_mean = {}\n",
    "    S2_b = 0\n",
    "    S2_w = 0\n",
    "    \n",
    "    # количество уровней фактора\n",
    "    X_values = df[X_feature_name].unique()\n",
    "    k = len(X_values)\n",
    "\n",
    "    # общее количество объектов в выборке\n",
    "    n = df.shape[0]\n",
    "\n",
    "    \n",
    "    # средняя цена по всей выборке\n",
    "    y_mean = df[Y_feature_name].mean()\n",
    "    \n",
    "    # записываем кол-во значений на каждом уровне, все значения цены и cреднее значение цены по каждому уровню\n",
    "    for value in X_values:\n",
    "        level_count['n'+ str(value)] = df[X_feature_name].value_counts().get(value)\n",
    "        level_values['n'+ str(value)] = df.loc[df[X_feature_name] == value, Y_feature_name]\n",
    "        level_mean['n'+ str(value)] =  df.loc[df[X_feature_name] == value, Y_feature_name].mean()\n",
    "\n",
    "    # межуровневая дисперсия\n",
    "    for key in level_mean:\n",
    "        S2_b += ((level_mean[key] - y_mean)**2)*level_count[key]\n",
    "    \n",
    "    # внутриуровневая дисперсия\n",
    "    for key in level_values:\n",
    "        for item in level_values[key]:\n",
    "            S2_w += (item - level_mean[key])**2\n",
    "            \n",
    "    # проверяем значимость       \n",
    "    k1 = k - 1\n",
    "    k2 = n - k\n",
    "    \n",
    "    sigma2_b = S2_b / k1\n",
    "    sigma2_w = S2_w / k2\n",
    "    \n",
    "    F = sigma2_b / sigma2_w\n",
    "    \n",
    "    # определяем квантиль\n",
    "    alpha = 0.05\n",
    "    t = stats.f.ppf(1 - alpha, k1, k2)\n",
    "\n",
    "    if F >= t:\n",
    "        return round(F, 2), round(t, 2), True\n",
    "    else:\n",
    "        return round(F, 2), round(t, 2), False"
   ]
  },
  {
   "cell_type": "markdown",
   "metadata": {},
   "source": [
    "Проверим значимость для категориальных признаков:"
   ]
  },
  {
   "cell_type": "code",
   "execution_count": 53,
   "metadata": {},
   "outputs": [
    {
     "name": "stdout",
     "output_type": "stream",
     "text": [
      "Factor \t\t F-test, quantile, Significance\n",
      "-----------------------------\n",
      "Postcode \t (45.68, 1.17, True)\n",
      "Car \t\t (139.9, 1.94, True)\n",
      "Suburb \t\t (28.78, 1.13, True)\n",
      "Type \t\t (2015.44, 3.0, True)\n",
      "Method \t\t (77.88, 1.94, True)\n",
      "CouncilArea \t (210.56, 1.44, True)\n",
      "Regionname \t (573.35, 2.01, True)\n",
      "YearBuilt \t (16.92, 1.19, True)\n"
     ]
    }
   ],
   "source": [
    "print('Factor \\t\\t F-test, quantile, Significance')\n",
    "print('-----------------------------')\n",
    "    \n",
    "print('Postcode \\t',one_factor_ANOVA(df, 'Postcode', 'Price'))\n",
    "print('Car \\t\\t', one_factor_ANOVA(df, 'Car', 'Price'))\n",
    "print('Suburb \\t\\t', one_factor_ANOVA(df, 'Suburb', 'Price'))\n",
    "print('Type \\t\\t', one_factor_ANOVA(df, 'Type', 'Price'))\n",
    "print('Method \\t\\t', one_factor_ANOVA(df, 'Method', 'Price'))\n",
    "print('CouncilArea \\t', one_factor_ANOVA(df, 'CouncilArea', 'Price'))\n",
    "print('Regionname \\t', one_factor_ANOVA(df, 'Regionname', 'Price'))\n",
    "print('YearBuilt \\t', one_factor_ANOVA(df, 'YearBuilt', 'Price'))"
   ]
  },
  {
   "cell_type": "markdown",
   "metadata": {},
   "source": [
    "Дисперсионный анализ показал, что данные категориальные признаки оказывают влияние на зависимую переменную, в связи с чем можем считать их значимыми. Если сравнивать значения статистики и ух удаленность от квантилей, то можно говорить о том, что признаки Type и Regionname наиболее значимы."
   ]
  },
  {
   "cell_type": "markdown",
   "metadata": {},
   "source": [
    "### 4.2. Метод главных компонент"
   ]
  },
  {
   "cell_type": "markdown",
   "metadata": {},
   "source": [
    "С целью исключить линейную зависимость между факторами, которые в последствии будут использованы для построения уравнения линейной регрессии, применим метод главных компонент."
   ]
  },
  {
   "cell_type": "code",
   "execution_count": 38,
   "metadata": {},
   "outputs": [],
   "source": [
    "def PCA(df):\n",
    "    \"\"\"Применение метода главных компонент к матрице факторов и оценка объясняемой дисперсии  \n",
    "    \"\"\"\n",
    "    \n",
    "    df_centered = df_num - df_num.mean()\n",
    "    cov = np.cov(df_centered.T, ddof=1)\n",
    "    eigenvalues, eigenvectors = np.linalg.eig(cov)\n",
    "    new_data = df_centered.dot(eigenvectors[:, [1]])\n",
    "    \n",
    "    # проверка соотношения дисперций до и после применения метода\n",
    "    variance_before = np.var(df_num, axis=0, ddof=1).sum()\n",
    "    variance_after = df_num.var(ddof=1)\n",
    "\n",
    "    return variance_after / variance_before"
   ]
  },
  {
   "cell_type": "code",
   "execution_count": 39,
   "metadata": {},
   "outputs": [
    {
     "data": {
      "text/plain": [
       "BuildingArea    9.469255e-02\n",
       "Landsize        9.038540e-01\n",
       "Distance        1.452852e-03\n",
       "Lattitude       1.981858e-07\n",
       "Longtitude      3.512485e-07\n",
       "dtype: float64"
      ]
     },
     "execution_count": 39,
     "metadata": {},
     "output_type": "execute_result"
    }
   ],
   "source": [
    "df_num = df[num_features]\n",
    "PCA(df_num)"
   ]
  },
  {
   "cell_type": "markdown",
   "metadata": {},
   "source": [
    "Как показывает проверка соотношений дисперсий до применения метода главных компонент и после, сохранить приемлемый уровень дисперсии удалось только для переменной Landsize. Учитывая, что в данной переменной изначально было достаточно много пропусков, можно считать, что метод главных компонент для данного набора данных применять нецелесообразно."
   ]
  },
  {
   "cell_type": "markdown",
   "metadata": {},
   "source": [
    "### 4.3. Линейная зависимость"
   ]
  },
  {
   "cell_type": "markdown",
   "metadata": {},
   "source": [
    "Проверим две гипотезы о зависимости цены от разных группы признаков. \n",
    "\n",
    "Имеется ли зависимость стоимости объекта от:\n",
    "1. признаков местоположения - широты, долготы, удаленности от центра и почтового индекса;\n",
    "2. признаков размера - количества комнат, спален, ванных комнат, парковочных мест, общей площади объекта и участка, на котором он располагается. \n",
    "\n",
    "$H_0$: Стоимость не зависит от перечисленных признаков."
   ]
  },
  {
   "cell_type": "code",
   "execution_count": 40,
   "metadata": {},
   "outputs": [],
   "source": [
    "y = df['Price']\n",
    "X = df.drop('Price', axis=1)"
   ]
  },
  {
   "cell_type": "code",
   "execution_count": 41,
   "metadata": {},
   "outputs": [],
   "source": [
    "feats_location = ['Longtitude', 'Lattitude', 'Distance', 'Postcode']\n",
    "feats_size = ['Rooms', 'Bathroom', 'Bedroom2', 'Car', 'BuildingArea', 'Landsize']"
   ]
  },
  {
   "cell_type": "code",
   "execution_count": 42,
   "metadata": {},
   "outputs": [
    {
     "data": {
      "image/png": "[encoded data removed]",
      "text/plain": [
       "<Figure size 720x360 with 4 Axes>"
      ]
     },
     "metadata": {
      "needs_background": "light"
     },
     "output_type": "display_data"
    }
   ],
   "source": [
    "fig = plt.figure()\n",
    "\n",
    "fig.set_size_inches(10, 5)\n",
    "\n",
    "ax1 = fig.add_subplot(2, 2, 1)\n",
    "ax2 = fig.add_subplot(2, 2, 2)\n",
    "ax3 = fig.add_subplot(2, 2, 3)\n",
    "ax4 = fig.add_subplot(2, 2, 4)\n",
    "\n",
    "\n",
    "\n",
    "ax1.scatter(x=X['Longtitude'], y=y, marker='.')\n",
    "ax1.set_title('Longtitude и Price')\n",
    "\n",
    "ax2.scatter(x=X['Lattitude'], y=y, marker='.')\n",
    "ax2.set_title('Lattitude и Price')\n",
    "\n",
    "ax3.scatter(x=X['Distance'], y=y, marker='.')\n",
    "ax3.set_title('Distance и Price')\n",
    "\n",
    "ax4.scatter(x=X['Postcode'], y=y, marker='.')\n",
    "ax4.set_title('Postcode и Price')\n",
    "\n",
    "\n",
    "\n",
    "fig.tight_layout(pad=3.0)"
   ]
  },
  {
   "cell_type": "code",
   "execution_count": 43,
   "metadata": {},
   "outputs": [
    {
     "data": {
      "image/png": "[encoded data removed]",
      "text/plain": [
       "<Figure size 720x360 with 6 Axes>"
      ]
     },
     "metadata": {
      "needs_background": "light"
     },
     "output_type": "display_data"
    }
   ],
   "source": [
    "fig = plt.figure()\n",
    "\n",
    "fig.set_size_inches(10, 5)\n",
    "\n",
    "ax1 = fig.add_subplot(3, 3, 1)\n",
    "ax2 = fig.add_subplot(3, 3, 2)\n",
    "ax3 = fig.add_subplot(3, 3, 3)\n",
    "ax4 = fig.add_subplot(3, 3, 4)\n",
    "ax5 = fig.add_subplot(3, 3, 5)\n",
    "ax6 = fig.add_subplot(3, 3, 6)\n",
    "\n",
    "\n",
    "\n",
    "ax1.scatter(x=X['Rooms'], y=y, marker='.')\n",
    "ax1.set_title('Rooms и Price')\n",
    "\n",
    "ax2.scatter(x=X['Bathroom'], y=y, marker='.')\n",
    "ax2.set_title('Bathroom и Price')\n",
    "\n",
    "ax3.scatter(x=X['Bedroom2'], y=y, marker='.')\n",
    "ax3.set_title('Bedroom2 и Price')\n",
    "\n",
    "ax4.scatter(x=X['Car'], y=y, marker='.')\n",
    "ax4.set_title('Car и Price')\n",
    "\n",
    "ax5.scatter(x=X['BuildingArea'], y=y, marker='.')\n",
    "ax5.set_title('BuildingArea и Price')\n",
    "\n",
    "ax6.scatter(x=X['Landsize'], y=y, marker='.')\n",
    "ax6.set_title('Landsize и Price')\n",
    "\n",
    "fig.tight_layout(pad=3.0)"
   ]
  },
  {
   "cell_type": "markdown",
   "metadata": {},
   "source": [
    "Подберем коэффиценты уравнения линейной регрессии для данных групп признаков и рассчитаем его коэффицент детерминации $R^2$:"
   ]
  },
  {
   "cell_type": "code",
   "execution_count": 44,
   "metadata": {},
   "outputs": [],
   "source": [
    "def linear_regression_r_2(X, y):\n",
    "    \"\"\"Подсчет коэффицента детерминации линейной регрессии\n",
    "    \"\"\"\n",
    "  \n",
    "    #  добавление к матрице столбца с единицами\n",
    "    ones = np.ones((X.shape[0], 1))\n",
    "    X = np.hstack((ones, X))\n",
    "    \n",
    "    # подсчет коэффицентов для уравнения линейной регрессии\n",
    "    XTX = X.T.dot(X)\n",
    "    XTX_inv = np.linalg.inv(XTX)\n",
    "    b = XTX_inv.dot(X.T).dot(y)\n",
    "    \n",
    "    # подсчет ошибок\n",
    "    y_pred = X.dot(b)\n",
    "    e = y - y_pred\n",
    "    \n",
    "    # подсчет r2\n",
    "    return 1 - e.var() / y.var()"
   ]
  },
  {
   "cell_type": "code",
   "execution_count": 45,
   "metadata": {},
   "outputs": [
    {
     "name": "stdout",
     "output_type": "stream",
     "text": [
      "R2 для уравнения по признакам местоположения объекта \t 0.08719499249262308\n",
      "R2 для уравнения по признакам размера объекта \t\t 0.17911167988458232\n"
     ]
    }
   ],
   "source": [
    "r2_loc = linear_regression_r_2(X[feats_location], y)\n",
    "r2_size = linear_regression_r_2(X[feats_size], y)\n",
    "\n",
    "print('R2 для уравнения по признакам местоположения объекта \\t', r2_loc)\n",
    "print('R2 для уравнения по признакам размера объекта \\t\\t', r2_size)"
   ]
  },
  {
   "cell_type": "markdown",
   "metadata": {},
   "source": [
    "Проверим значимость полученных коэффицентов. \n",
    "\n",
    "$H_0$: Коэффицент детерминации равен 0 => уравнение линейной регрессии не является значимым.\n",
    "\n",
    "$H_1$: Коэффицент детерминации отличен от 0 => уравнение линейной регрессии является значимым."
   ]
  },
  {
   "cell_type": "code",
   "execution_count": 46,
   "metadata": {},
   "outputs": [],
   "source": [
    "def f_test(df, r2, m):\n",
    "    \"\"\"F-тест для проверки коэффицента детерминации\n",
    "    \"\"\"\n",
    "    n = df.shape[0]\n",
    "\n",
    "    k1 = m\n",
    "    k2 = n - m - 1\n",
    "    \n",
    "    alpha = 0.05\n",
    "    t = stats.f.ppf(1 - alpha, k1, k2)\n",
    "    F = (r2 / k1) / ((1 - r2) / k2)\n",
    "    \n",
    "    if F > t:\n",
    "        return True\n",
    "    \n",
    "    else:\n",
    "        return False  "
   ]
  },
  {
   "cell_type": "code",
   "execution_count": 47,
   "metadata": {},
   "outputs": [
    {
     "name": "stdout",
     "output_type": "stream",
     "text": [
      "Значимость R2 для уравнения по признакам местоположения объекта \t True\n",
      "Значимость R2 для уравнения по признакам размера объекта \t\t True\n"
     ]
    }
   ],
   "source": [
    "f_loc = f_test(X[feats_location], r2_loc, len(feats_location))\n",
    "f_size = f_test(X[feats_size], r2_size, len(feats_size))\n",
    "\n",
    "print('Значимость R2 для уравнения по признакам местоположения объекта \\t', f_loc)\n",
    "print('Значимость R2 для уравнения по признакам размера объекта \\t\\t', f_size)"
   ]
  },
  {
   "cell_type": "markdown",
   "metadata": {},
   "source": [
    "Итак, мы можем отвергуть гипотезу о том, что стоимость не зависит от пространственных и размерных признаков объекта. Также мы видим, что коэффицент детерминации в обоих случаях достаточно мал, что означает, что доля объясняемой моделью дисперсии все же незначительна. \n",
    "\n",
    "Тем не менее, уравнения линейной регрессии значимы => Небольшая зависимость между стоимостью и данными характеристиками есть. \n",
    "\n",
    "При этом, установлено, что зависимость между стоимостью и размерными признаками объекта значительно выше признаков местоположения. Это позволяет говорить о том, что объект более вероятно стоит дороже, если его площадь и участок больше, и соответственно в нем больше комнат и парковочных мест."
   ]
  },
  {
   "cell_type": "markdown",
   "metadata": {},
   "source": [
    "Проверим, насколько значимым будет уравнение регрессии, если мы учтем все вышеперечисленные признаки + год постройки объекта:"
   ]
  },
  {
   "cell_type": "code",
   "execution_count": 48,
   "metadata": {},
   "outputs": [
    {
     "name": "stdout",
     "output_type": "stream",
     "text": [
      "R2 \t\t 0.33724767945685485\n",
      "Значимость R2 \t True\n"
     ]
    }
   ],
   "source": [
    "feats_all = ['Rooms', 'Bathroom', 'Bedroom2', 'Car', 'BuildingArea',\n",
    "             'Landsize', 'Longtitude', 'Lattitude', 'Distance', 'Postcode', 'YearBuilt']\n",
    "\n",
    "r2_all = linear_regression_r_2(X[feats_all], y)\n",
    "f_all = f_test(X[feats_location], r2_loc, len(feats_location))\n",
    "\n",
    "print('R2 \\t\\t', r2_all)\n",
    "print('Значимость R2 \\t', f_all)"
   ]
  },
  {
   "cell_type": "markdown",
   "metadata": {},
   "source": [
    "Мы видим, что в совокупности признаки дают более эффективное значимое уравнение линейной регрессии (с учетом того, что $R^2$ уравнения только по году постройки всего 0.03)."
   ]
  },
  {
   "cell_type": "markdown",
   "metadata": {},
   "source": [
    "### Выводы"
   ]
  },
  {
   "cell_type": "markdown",
   "metadata": {},
   "source": [
    "Итак, были установлены и проверены следующие закономерности:\n",
    "    \n",
    "1. Объекты в районе Southern Metropolitan в среднем стоят больше, чем в среднем объекты по всем районам.\n",
    "2. Объекты в районе Northern Metropolitan значимо отличаются по размеру от средних по выборке.\n",
    "3. Таунхаусы в районе Western Metropolitan значимо отличаются по стоимости от средних по выборке.\n",
    "4. Стоимость объектов года постройки раньше 1900 и удаленных от центра более, чем на 10 км, выше средней по выборке.\n",
    "5. Категориальные признаки оказывают значимое влияние на цену объекта, наиболее значимые признаки - район и тип объекта (дом, комната и т.д.).\n",
    "6. Цена объекта проявляет бОльшую зависимость от признаков, связанных с размером объекта, нежели от признаков, связанных с его расположением."
   ]
  }
 ],
 "metadata": {
  "kernelspec": {
   "display_name": "Python 3",
   "language": "python",
   "name": "python3"
  },
  "language_info": {
   "codemirror_mode": {
    "name": "ipython",
    "version": 3
   },
   "file_extension": ".py",
   "mimetype": "text/x-python",
   "name": "python",
   "nbconvert_exporter": "python",
   "pygments_lexer": "ipython3",
   "version": "3.8.1"
  }
 },
 "nbformat": 4,
 "nbformat_minor": 4
}
