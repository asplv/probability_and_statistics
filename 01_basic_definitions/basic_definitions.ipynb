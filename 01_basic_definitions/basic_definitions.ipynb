{
 "cells": [
  {
   "cell_type": "markdown",
   "metadata": {},
   "source": [
    "Анастасия Плавина\n",
    "\n",
    "### Тема: Случайные события. Свойства вероятности. Формула Байеса."
   ]
  },
  {
   "cell_type": "code",
   "execution_count": 1,
   "metadata": {},
   "outputs": [],
   "source": [
    "import math \n",
    "\n",
    "def combinations(n, k):\n",
    "    return int(math.factorial(n)/(math.factorial(k) *  math.factorial(n-k)))\n",
    "\n",
    "def permutations(n):\n",
    "    return int(math.factorial(n))\n",
    "\n",
    "def prabability(m, n):\n",
    "    return round(m/n, 4)"
   ]
  },
  {
   "cell_type": "markdown",
   "metadata": {},
   "source": [
    "#### Задача 1\n",
    "Из колоды в 52 карты вынимают случайным образом 4 карты. Найти число исходов, соответствующих тому, что был вытянут хотя бы один туз."
   ]
  },
  {
   "cell_type": "markdown",
   "metadata": {},
   "source": [
    "#### Решение\n",
    "\n",
    "Нас интересуют случаи, когда из 52 карт вытянуто $\\geq 1$ туза. \n",
    "\n",
    "Определяем количество исходов, таких что:\n",
    "\n",
    "- из 4 тузов вытянут 1 туз, и 3 другие карты вытянуты из оставшихся 48 карт;\n",
    "- из 4 тузов вытянуто 2 туза, и 2 другие карты вытянуты из оставшихся 48 карт;\n",
    "- из 4 тузов вытянуто 3 туз, и 1 карта вытянута из оставшихся 48 карт;\n",
    "- из 4 тузов вытянуто 4 туза, из оставшихся 48 карт карта не попадается;\n",
    "\n",
    "Расcчитываем количество сочетаний на каждое условие и суммируем их:"
   ]
  },
  {
   "cell_type": "code",
   "execution_count": 10,
   "metadata": {},
   "outputs": [
    {
     "name": "stdout",
     "output_type": "stream",
     "text": [
      "Общее число искомых исходов:76145\n"
     ]
    }
   ],
   "source": [
    "one_ace = combinations(4, 1) * combinations(48, 3) \n",
    "two_aces = combinations(4, 2) * combinations(48, 2) \n",
    "three_aces = combinations(4, 3) * combinations(48, 1) \n",
    "all_aces = combinations(4, 4) * combinations(48, 0) \n",
    "\n",
    "print(f'Общее число искомых исходов:{one_ace+two_aces+three_aces+all_aces}')"
   ]
  },
  {
   "cell_type": "markdown",
   "metadata": {},
   "source": [
    "#### Задача 2\n",
    "\n",
    "Семь человек рассаживаются наудачу на скамейке. Какова вероятность того, что рядом будут сидеть: а) два определённых человека? б) три определённых человека?"
   ]
  },
  {
   "cell_type": "markdown",
   "metadata": {},
   "source": [
    "#### Решение\n",
    "\n",
    "Количество вариантов, когда $k$ людей сидят рядом на скамейке из $n$ мест: $k!(n-k)!(n - (k-1))$ "
   ]
  },
  {
   "cell_type": "code",
   "execution_count": 3,
   "metadata": {},
   "outputs": [],
   "source": [
    "def arrangement_together(n, k):\n",
    "    return (n - (k-1))*math.factorial(n-k)*math.factorial(k)"
   ]
  },
  {
   "cell_type": "code",
   "execution_count": 4,
   "metadata": {},
   "outputs": [
    {
     "data": {
      "text/plain": [
       "(1440, 720)"
      ]
     },
     "execution_count": 4,
     "metadata": {},
     "output_type": "execute_result"
    }
   ],
   "source": [
    "m_a = arrangement_together(7, 2)\n",
    "m_b = arrangement_together(7, 3)\n",
    "\n",
    "m_a, m_b"
   ]
  },
  {
   "cell_type": "markdown",
   "metadata": {},
   "source": [
    "Рассчитаем вероятность $P = \\frac{m}{n}$, где $n$ - общее количество вариаций рассадки 7 человек на скамейке, $m$ - кол-во удовлетворяющих исходов:"
   ]
  },
  {
   "cell_type": "code",
   "execution_count": 5,
   "metadata": {},
   "outputs": [
    {
     "name": "stdout",
     "output_type": "stream",
     "text": [
      "Вероятность, что  2 определённых человека сидят вместе: 0.2857\n",
      "Вероятность, что  3 определённых человека сидят вместе: 0.1429\n"
     ]
    }
   ],
   "source": [
    "# рассчитываем вероятность \n",
    "P_a = prabability(m_a,permutations(7))\n",
    "P_b = prabability(m_b,permutations(7))\n",
    "\n",
    "print(f'Вероятность, что  2 определённых человека сидят вместе: {P_a}')\n",
    "print(f'Вероятность, что  3 определённых человека сидят вместе: {P_b}')"
   ]
  },
  {
   "cell_type": "markdown",
   "metadata": {},
   "source": [
    "#### Задача 3\n",
    "\n",
    "Из 60 вопросов, входящих в экзаменационные билеты, студент знает 50. Какова вероятность того, что среди трёх наугад выбранных вопросов студент знает: а) все? б) два?"
   ]
  },
  {
   "cell_type": "markdown",
   "metadata": {},
   "source": [
    "a) Общее кол-во вариантов вытянуть 3 билета из 60: $C_{60}^{3}$\n",
    "\n",
    "Кол-во вариантов вытянуть 3 билета из 50, знакомых студенту: $С_{50}^{3}$\n",
    "\n",
    "Вероятность вытянуть три знакомых билета: $\\frac{С_{50}^{3}}{C_{60}^{3}}$"
   ]
  },
  {
   "cell_type": "code",
   "execution_count": 6,
   "metadata": {},
   "outputs": [
    {
     "data": {
      "text/plain": [
       "0.5727644652250146"
      ]
     },
     "execution_count": 6,
     "metadata": {},
     "output_type": "execute_result"
    }
   ],
   "source": [
    "P_a = combinations(50, 3) / combinations(60, 3)\n",
    "P_a"
   ]
  },
  {
   "cell_type": "markdown",
   "metadata": {},
   "source": [
    "б) Кол-во вариантов вытянуть 2 билета из 50, знакомых студенту, и оставшийся из 10 незнакомых: $С_{50}^{2} * С_{10}^{1}$\n",
    "\n",
    "Вероятность вытянуть 2 знакомых билета из 3: $\\frac{С_{50}^{2} \\cdot С_{10}^{1}}{C_{60}^{3}}$"
   ]
  },
  {
   "cell_type": "code",
   "execution_count": 7,
   "metadata": {},
   "outputs": [
    {
     "data": {
      "text/plain": [
       "0.35797779076563413"
      ]
     },
     "execution_count": 7,
     "metadata": {},
     "output_type": "execute_result"
    }
   ],
   "source": [
    "P_b = (combinations(50, 2) * combinations(10, 1)) / combinations(60, 3)\n",
    "P_b"
   ]
  },
  {
   "cell_type": "markdown",
   "metadata": {},
   "source": [
    "#### Задача 4\n",
    "\n",
    "Бросается игральная кость. Пусть событие A - появление чётного числа, событие B - появление числа больше трёх. Являются ли эти события независимыми?"
   ]
  },
  {
   "cell_type": "markdown",
   "metadata": {},
   "source": [
    "#### Решение\n",
    "\n",
    "$P(A) = \\frac{1}{2}$ Если событие A случилось => выпало 2, 4, 6. \n",
    "\n",
    "4 и 6 > 3 => $P(B|A) = \\frac{2}{3}$, т.е. если мы выкинули четное, то вероятность обнаружить в них число > 3 = $\\frac{2}{3}$ \n",
    "\n",
    "$P(B) = \\frac{1}{2}$ => $P(B) \\ne P(B|A)$ => события зависимы"
   ]
  },
  {
   "cell_type": "markdown",
   "metadata": {},
   "source": [
    "#### Задача 5\n",
    "\n",
    "Допустим, имеется некоторая очень редкая болезнь (поражает 0.1% населения). Вы приходите к врачу, вам делают тест на эту болезнь, и тест оказывается положительным. Врач говорит вам, что этот тест верно выявляет 99% больных этой болезнью и всего лишь в 1% случаев даёт ложный положительный ответ.\n",
    "\n",
    "Вопрос: какова вероятность, что вы действительно больны ей?\n",
    "\n",
    "Подсказка: вновь используйте формулу Байеса с раскрытием знаменателя с помощью формулы полной вероятности."
   ]
  },
  {
   "cell_type": "markdown",
   "metadata": {},
   "source": [
    "#### Решение\n",
    "\n",
    "$P(A) = 0.001$ - вероятность того, что пациент болен\n",
    "\n",
    "$P(B|A) = 0.99$ - вероятность того, что тест определит болезнь, когда пациент болен \n",
    "\n",
    "$P(B) = 0.99 \\cdot 0.001 + 0,01 \\cdot 0.999 \\approx 0.011$ - вероятность того, что тест положительный"
   ]
  },
  {
   "cell_type": "code",
   "execution_count": 8,
   "metadata": {},
   "outputs": [
    {
     "data": {
      "text/plain": [
       "0.01098"
      ]
     },
     "execution_count": 8,
     "metadata": {},
     "output_type": "execute_result"
    }
   ],
   "source": [
    "result = 0.99 * 0.001 + 0.01*0.999\n",
    "result"
   ]
  },
  {
   "cell_type": "markdown",
   "metadata": {},
   "source": [
    "$P(A|B) = \\frac{0.99 \\cdot 0.001}{0.011} \\approx 0.09 $"
   ]
  },
  {
   "cell_type": "code",
   "execution_count": 9,
   "metadata": {},
   "outputs": [
    {
     "name": "stdout",
     "output_type": "stream",
     "text": [
      "Вероятность, что пациент действительно болен, и тест положителен:0.09000000000000001\n"
     ]
    }
   ],
   "source": [
    "result = (0.99 * 0.001)/ 0.011\n",
    "print(f'Вероятность, что пациент действительно болен, и тест положителен:{result}')"
   ]
  }
 ],
 "metadata": {
  "kernelspec": {
   "display_name": "Python 3",
   "language": "python",
   "name": "python3"
  },
  "language_info": {
   "codemirror_mode": {
    "name": "ipython",
    "version": 3
   },
   "file_extension": ".py",
   "mimetype": "text/x-python",
   "name": "python",
   "nbconvert_exporter": "python",
   "pygments_lexer": "ipython3",
   "version": "3.8.1"
  }
 },
 "nbformat": 4,
 "nbformat_minor": 4
}
