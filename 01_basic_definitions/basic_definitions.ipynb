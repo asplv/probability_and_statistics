{
 "cells": [
  {
   "cell_type": "markdown",
   "metadata": {},
   "source": [
    "Анастасия Плавина\n",
    "\n",
    "### Тема: Случайные события. Свойства вероятности. Формула Байеса."
   ]
  },
  {
   "cell_type": "code",
   "execution_count": 78,
   "metadata": {},
   "outputs": [],
   "source": [
    "import math \n",
    "\n",
    "def combinations(n, k):\n",
    "    return int(math.factorial(n)/(math.factorial(k) *  math.factorial(n-k)))\n",
    "\n",
    "def permutations(n):\n",
    "    return int(math.factorial(n))\n",
    "\n",
    "def arrangements(n, k):\n",
    "    return int(math.factorial(n)/math.factorial(n-k))\n",
    "\n",
    "def prabability(m, n):\n",
    "    return round(m/n, 3)"
   ]
  },
  {
   "cell_type": "markdown",
   "metadata": {},
   "source": [
    "#### Задача 1\n",
    "Из колоды в 52 карты вынимают случайным образом 4 карты. Найти число исходов, соответствующих тому, что был вытянут хотя бы один туз."
   ]
  },
  {
   "cell_type": "markdown",
   "metadata": {},
   "source": [
    "#### Решение\n",
    "\n",
    "Нас интересуют случаи, что из 52 карт вытянуто $\\geq 1$ туза. \n",
    "\n",
    "Определяем количество исходов, таких что:\n",
    "\n",
    "- из 4 тузов вытянут 1 туз, и 3 другие карты вытянуты из оставшихся 48 карт;\n",
    "- из 4 тузов вытянуто 2 туза, и 2 другие карты вытянуты из оставшихся 48 карт;\n",
    "- из 4 тузов вытянуто 3 туз, и 1 карта вытянута из оставшихся 48 карт;\n",
    "- из 4 тузов вытянуто 4 туза, из оставшихся 48 карт карта не попадается;\n",
    "\n",
    "Расчитываем количество сочетаний на каждое условие и суммируем их:"
   ]
  },
  {
   "cell_type": "code",
   "execution_count": 54,
   "metadata": {},
   "outputs": [
    {
     "data": {
      "text/plain": [
       "1"
      ]
     },
     "execution_count": 54,
     "metadata": {},
     "output_type": "execute_result"
    }
   ],
   "source": [
    "combinations(4, 4)"
   ]
  },
  {
   "cell_type": "code",
   "execution_count": 55,
   "metadata": {},
   "outputs": [
    {
     "data": {
      "text/plain": [
       "1"
      ]
     },
     "execution_count": 55,
     "metadata": {},
     "output_type": "execute_result"
    }
   ],
   "source": [
    "combinations(48, 0) "
   ]
  },
  {
   "cell_type": "code",
   "execution_count": 34,
   "metadata": {},
   "outputs": [
    {
     "name": "stdout",
     "output_type": "stream",
     "text": [
      "Количество исходов, соответствующих тому, что вытянуты такие 4 карты, что среди них: \n",
      "1 туз: 69184\n",
      "2 тузa: 6768\n",
      "3 тузa: 192\n",
      "4 туза: 1\n",
      "Общее число искомых исходов:76145\n"
     ]
    }
   ],
   "source": [
    "one_ace = combinations(4, 1) * combinations(48, 3) \n",
    "two_aces = combinations(4, 2) * combinations(48, 2) \n",
    "three_aces = combinations(4, 3) * combinations(48, 1) \n",
    "all_aces = combinations(4, 4) * combinations(48, 0) \n",
    "\n",
    "print(f'Количество исходов, соответствующих тому, что вытянуты такие 4 карты, что среди них: \\n1 туз: {one_ace}')\n",
    "print(f'2 тузa: {two_aces}')\n",
    "print(f'3 тузa: {three_aces}')\n",
    "print(f'4 туза: {all_aces}')\n",
    "print(f'Общее число искомых исходов:{one_ace+two_aces+three_aces+all_aces}')"
   ]
  },
  {
   "cell_type": "markdown",
   "metadata": {},
   "source": [
    "#### Задача 2\n",
    "\n",
    "Семь человек рассаживаются наудачу на скамейке. Какова вероятность того, что рядом будут сидеть: а) два определённых человека? б) три определённых человека?"
   ]
  },
  {
   "cell_type": "markdown",
   "metadata": {},
   "source": [
    "#### Решение\n",
    "\n",
    "Пусть $k$ - количество человек, сидящих вместе. Для a) $k = 2$, для б) $k = 3$. Количество способов $k$ людей сидеть друг с другом в разном порядке = $k!$\n",
    "\n",
    "Количество исходов, когда $k$ людей сидят рядом на скамейке из $n$ мест: $n - (k-1)$ \n",
    "\n",
    "Учитываем, что они могут сидеть в разном порядке и умножаем $n - (k+1)$ на $k!$\n",
    "\n",
    "Получаем функцию:"
   ]
  },
  {
   "cell_type": "code",
   "execution_count": 73,
   "metadata": {},
   "outputs": [],
   "source": [
    "def arrangement_together(n, k):\n",
    "    return math.factorial(k)*(n - (k-1))"
   ]
  },
  {
   "cell_type": "markdown",
   "metadata": {},
   "source": [
    "Рассчитаем вероятность $P = \\frac{m}{n}$, где $n$ - общее количество вариаций рассадки 7 человек на скамейке:"
   ]
  },
  {
   "cell_type": "code",
   "execution_count": 76,
   "metadata": {},
   "outputs": [
    {
     "data": {
      "text/plain": [
       "5040"
      ]
     },
     "execution_count": 76,
     "metadata": {},
     "output_type": "execute_result"
    }
   ],
   "source": [
    "n = permutations(7)\n",
    "n"
   ]
  },
  {
   "cell_type": "markdown",
   "metadata": {},
   "source": [
    "А m - кол-во нужных исходов - $m_а$ - 2 определённых человека сидят вместе, $m_b$ - 3 определённых человека сидят вместе:"
   ]
  },
  {
   "cell_type": "code",
   "execution_count": 74,
   "metadata": {},
   "outputs": [
    {
     "data": {
      "text/plain": [
       "(12, 30)"
      ]
     },
     "execution_count": 74,
     "metadata": {},
     "output_type": "execute_result"
    }
   ],
   "source": [
    "m_a = arrangement_together(7, 2)\n",
    "m_b = arrangement_together(7, 3)\n",
    "\n",
    "m_a, m_b"
   ]
  },
  {
   "cell_type": "code",
   "execution_count": 79,
   "metadata": {},
   "outputs": [
    {
     "name": "stdout",
     "output_type": "stream",
     "text": [
      "Вероятность, что  2 определённых человека сидят вместе: 0.002\n",
      "Вероятность, что  3 определённых человека сидят вместе: 0.006\n"
     ]
    }
   ],
   "source": [
    "# рассчитываем вероятность \n",
    "\n",
    "P_a = prabability(m_a,n)\n",
    "P_b = prabability(m_b,n)\n",
    "\n",
    "print(f'Вероятность, что  2 определённых человека сидят вместе: {P_a}')\n",
    "print(f'Вероятность, что  3 определённых человека сидят вместе: {P_b}')"
   ]
  },
  {
   "cell_type": "markdown",
   "metadata": {},
   "source": [
    "#### Задача 3\n",
    "\n",
    "Из 60 вопросов, входящих в экзаменационные билеты, студент знает 50. Какова вероятность того, что среди трёх наугад выбранных вопросов студент знает: а) все? б) два?"
   ]
  },
  {
   "cell_type": "markdown",
   "metadata": {},
   "source": [
    "Пусть событие А - студент знает билет, событие B - выпадание билета. \n",
    "\n",
    "\n",
    "**Вероятность, что студент знает все три билета:**\n",
    "\n",
    "Вероятность выпадания первого билета - $P(B) = \\frac{1}{60}$. Каждое вытягивание уменьшает количество билетов, то есть вероятность вытягивания 2-ого билета -  $\\frac{1}{59}$, третьего - $\\frac{1}{58}$.\n",
    "\n",
    "Вероятность знания 1-ого вытянутого билета - $P(A | B_1) = \\frac{благоприятные\\ исходы}{все\\ исходы} = \\frac{50}{60}$\n",
    "\n",
    "Вероятность знания 2-ого вытянутого билета - $P(A | B_2) = \\frac{49}{59}$\n",
    "\n",
    "Вероятность знания 3-ого вытянутого билета - $P(A | B_3) = \\frac{48}{58}$\n",
    "\n",
    "Используем формулу полной вероятности для событий $А$ и $B$:"
   ]
  },
  {
   "cell_type": "markdown",
   "metadata": {},
   "source": [
    "$P(A) = P(A | B_1) \\cdot P(B_1) + P(A | B_2) \\cdot P(B_2) + (A | B_3) \\cdot P(B_3)$\n",
    "\n",
    "$P(A) = \\frac{50}{60} \\cdot \\frac{1}{60} + \\frac{49}{59} \\cdot \\frac{1}{59} + \\frac{48}{58} \\cdot \\frac{1}{58} = \\frac{50}{60^2} + \\frac{49}{59^2} + \\frac{48}{58^2} \\approx 0.042$\n"
   ]
  },
  {
   "cell_type": "code",
   "execution_count": 82,
   "metadata": {},
   "outputs": [
    {
     "name": "stdout",
     "output_type": "stream",
     "text": [
      "Вероятность, что студент знает все три билета: 0.04223403141732848\n"
     ]
    }
   ],
   "source": [
    "result = 50/60**2 +49/59**2 +48/58**2\n",
    "print(f'Вероятность, что студент знает все три билета: {result}')"
   ]
  },
  {
   "cell_type": "markdown",
   "metadata": {},
   "source": [
    "#### Задача 4\n",
    "\n",
    "Бросается игральная кость. Пусть событие A - появление чётного числа, событие B - появление числа больше трёх. Являются ли эти события независимыми?"
   ]
  },
  {
   "cell_type": "markdown",
   "metadata": {},
   "source": [
    "#### Решение\n",
    "\n",
    "$P(A) = \\frac{1}{2}$ Если событие A случилось => выпало 2, 4, 6. \n",
    "\n",
    "4 и 6 > 3 => $P(B|A) = \\frac{2}{3}$, т.е. если мы выкинули четное, то вероятность обнаружить в них число > 3 = $\\frac{2}{3}$ \n",
    "\n",
    "$P(B) = \\frac{1}{2}$ => $P(B) \\ne P(B|A)$ => события зависимы"
   ]
  },
  {
   "cell_type": "markdown",
   "metadata": {},
   "source": [
    "#### Задача 5\n",
    "\n",
    "Допустим, имеется некоторая очень редкая болезнь (поражает 0.1% населения). Вы приходите к врачу, вам делают тест на эту болезнь, и тест оказывается положительным. Врач говорит вам, что этот тест верно выявляет 99% больных этой болезнью и всего лишь в 1% случаев даёт ложный положительный ответ.\n",
    "\n",
    "Вопрос: какова вероятность, что вы действительно больны ей?\n",
    "\n",
    "Подсказка: вновь используйте формулу Байеса с раскрытием знаменателя с помощью формулы полной вероятности."
   ]
  },
  {
   "cell_type": "markdown",
   "metadata": {},
   "source": [
    "#### Решение\n",
    "\n",
    "$P(A) = 0.001$ - вероятность того, что пациент болен\n",
    "\n",
    "$P(B|A) = 0.99$ - вероятность того, что тест определит болезнь, когда пациент болен \n",
    "\n",
    "$P(B) = 0.99 \\cdot 0.001 + 0,01 \\cdot 0.999 \\approx 0.011$ - вероятность того, что тест положительный"
   ]
  },
  {
   "cell_type": "code",
   "execution_count": 88,
   "metadata": {},
   "outputs": [
    {
     "data": {
      "text/plain": [
       "0.01098"
      ]
     },
     "execution_count": 88,
     "metadata": {},
     "output_type": "execute_result"
    }
   ],
   "source": [
    "result = 0.99 * 0.001 + 0.01*0.999\n",
    "result"
   ]
  },
  {
   "cell_type": "markdown",
   "metadata": {},
   "source": [
    "$P(B|A) = \\frac{0.99 \\cdot 0.001}{0.011} \\approx 0.09 $"
   ]
  },
  {
   "cell_type": "code",
   "execution_count": 89,
   "metadata": {},
   "outputs": [
    {
     "data": {
      "text/plain": [
       "0.09000000000000001"
      ]
     },
     "execution_count": 89,
     "metadata": {},
     "output_type": "execute_result"
    }
   ],
   "source": [
    "result = (0.99 * 0.001)/ 0.011\n",
    "result"
   ]
  }
 ],
 "metadata": {
  "kernelspec": {
   "display_name": "Python 3",
   "language": "python",
   "name": "python3"
  },
  "language_info": {
   "codemirror_mode": {
    "name": "ipython",
    "version": 3
   },
   "file_extension": ".py",
   "mimetype": "text/x-python",
   "name": "python",
   "nbconvert_exporter": "python",
   "pygments_lexer": "ipython3",
   "version": "3.8.1"
  }
 },
 "nbformat": 4,
 "nbformat_minor": 4
}
