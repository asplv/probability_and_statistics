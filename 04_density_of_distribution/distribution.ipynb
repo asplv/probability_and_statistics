{
 "cells": [
  {
   "cell_type": "markdown",
   "metadata": {},
   "source": [
    "Анастасия Плавина\n",
    "\n",
    "\n",
    "### Тема: Непрерывные случайные величины. Функция распределения и плотность распределения вероятностей. Равномерное и нормальное распределение. Центральная предельная теорема"
   ]
  },
  {
   "cell_type": "markdown",
   "metadata": {},
   "source": [
    "#### Задача 1\n",
    "\n",
    "О непрерывной равномерно распределённой случайной величине B известно, что её дисперсия равна 0.2. Можно ли найти правую границу величины B и её среднее значение зная, что левая граница равна 0.5? Если да, найдите их."
   ]
  },
  {
   "cell_type": "markdown",
   "metadata": {},
   "source": [
    "$D(B) =0.2$\n",
    "\n",
    "$a =0.5$\n",
    "\n",
    "Для равномерного распределения:\n",
    "\n",
    "$M(B) = \\frac{a+b}{2}$\n",
    "\n",
    "$D(B) = \\frac{(b-a)^2}{12}$\n",
    "\n",
    "$0.2 = \\frac{(b-0.5)^2}{12}$\n",
    "\n",
    "$(b-0.5)^2 = 2.4$\n",
    "\n",
    "$b-0.5 = \\sqrt{2.4}$\n",
    "\n",
    "$b = \\sqrt{2.4} + 0.5$\n",
    "\n",
    "$b = \\sqrt{2.4} + 0.5$\n",
    "\n",
    "$b = 2.049$\n",
    "\n",
    "\n",
    "$M(B) = \\frac{0.5+2.049}{2}$\n",
    "\n",
    "$M(B) = 1.2745$\n"
   ]
  },
  {
   "cell_type": "code",
   "execution_count": 1,
   "metadata": {},
   "outputs": [
    {
     "data": {
      "text/plain": [
       "2.049193338482967"
      ]
     },
     "execution_count": 1,
     "metadata": {},
     "output_type": "execute_result"
    }
   ],
   "source": [
    "2.4**(1/2) +0.5"
   ]
  },
  {
   "cell_type": "code",
   "execution_count": 2,
   "metadata": {},
   "outputs": [
    {
     "data": {
      "text/plain": [
       "1.2745"
      ]
     },
     "execution_count": 2,
     "metadata": {},
     "output_type": "execute_result"
    }
   ],
   "source": [
    "(2.049 + 0.5) / 2"
   ]
  },
  {
   "cell_type": "markdown",
   "metadata": {},
   "source": [
    "#### Задача 2\n",
    "\n",
    "Коробки с шоколадом упаковываются автоматически. Их средняя масса равна 1.06 кг. Известно, что 5% коробок имеют массу, меньшую 1 кг. Найдите: а) среднее квадратическое отклонение массы коробки, б) процент коробок, имеющих массу больше 1.1 кг.\n",
    "\n",
    "Подсказка. Найдите такое значение scale, для которого значение cdf(x=1, loc=1.06, scale=scale) близко к 0.05. Точности 0.0001 будет достаточно."
   ]
  },
  {
   "cell_type": "code",
   "execution_count": 53,
   "metadata": {},
   "outputs": [
    {
     "name": "stdout",
     "output_type": "stream",
     "text": [
      "sigma\t0.03647999999999999\n",
      "P\t0.1364319300222232\n"
     ]
    }
   ],
   "source": [
    "import numpy as np\n",
    "from scipy.special import erf \n",
    "import matplotlib.pyplot  as plt\n",
    "\n",
    "def cdf_normal(loc: float, scale: float, x: float) -> float:\n",
    "    \"\"\"Функция распределения для нормального распределения.\n",
    "    \"\"\"\n",
    "    \n",
    "    return (1 + erf((x - loc) / (scale * np.sqrt(2)))) / 2\n",
    "\n",
    "\n",
    "def search_for_current_accuracy(loc, x, acc, delta):\n",
    "    p_min = abs(cdf_normal(loc, delta + acc, x) - 0.05)\n",
    "    scale = delta + acc\n",
    "    i = 1\n",
    "\n",
    "    while scale != delta + (i-1)*acc:\n",
    "        i += 1\n",
    "\n",
    "        p = abs(cdf_normal(loc, delta + i*acc, x) - 0.05)\n",
    "        if p < p_min:\n",
    "            p_min = p\n",
    "            scale = delta + i*acc\n",
    "            \n",
    "        #print(delta + i*acc, p)\n",
    "    return scale\n",
    "    \n",
    "\n",
    "def requr_search_with_accuracy(loc, x, acc, delta = 0):\n",
    "    if acc == 0.01:\n",
    "        scale = search_for_current_accuracy(loc, x, acc, delta)\n",
    "    else:\n",
    "        delta = requr_search_with_accuracy(loc, x, acc*10) - acc*10\n",
    "        scale = search_for_current_accuracy(loc, x, acc, delta)\n",
    "        \n",
    "    return scale\n",
    "\n",
    "loc = 1.06\n",
    "x = 1\n",
    "\n",
    "# a)\n",
    "sigma = requr_search_with_accuracy(loc, x, 0.00001)\n",
    "print('sigma', sigma, sep='\\t')\n",
    "\n",
    "# b)\n",
    "print('P', 1 - cdf_normal(loc, sigma, 1.1), sep='\\t')\n",
    "\n"
   ]
  },
  {
   "cell_type": "markdown",
   "metadata": {},
   "source": [
    "#### Задача 3\n",
    "\n",
    "Коробка содержит 30 конфет. Известно, что масса каждой конфеты распределена равномерно в промежутке от 12 до 14 граммов. Используя центральную предельную теорему, найти вероятность, что масса всей коробки будет: а) меньше 390 граммов, б) больше 395 граммов, в) от 380 до 400 граммов.\n",
    "\n",
    "Массой самой коробки можно пренебречь."
   ]
  },
  {
   "cell_type": "code",
   "execution_count": 54,
   "metadata": {},
   "outputs": [
    {
     "name": "stdout",
     "output_type": "stream",
     "text": [
      "P(y<390)\t0.5\n",
      "P(y>395)\t0.056923149003329065\n",
      "P(y>380 && y<400)\t0.9984345977419975\n"
     ]
    }
   ],
   "source": [
    "n = 30\n",
    "mu = n * (14+12) / 2\n",
    "sigma = (n * ( (14-12)**2 / 12 ))**0.5\n",
    "\n",
    "# a)\n",
    "print('P(y<390)', cdf_normal(mu, sigma, 390), sep='\\t')\n",
    "# b)\n",
    "print('P(y>395)', 1 - cdf_normal(mu, sigma, 395), sep='\\t')\n",
    "# c)\n",
    "print('P(y>380 && y<400)', cdf_normal(mu, sigma, 400) - cdf_normal(mu, sigma, 380), sep='\\t')"
   ]
  }
 ],
 "metadata": {
  "kernelspec": {
   "display_name": "Python 3",
   "language": "python",
   "name": "python3"
  },
  "language_info": {
   "codemirror_mode": {
    "name": "ipython",
    "version": 3
   },
   "file_extension": ".py",
   "mimetype": "text/x-python",
   "name": "python",
   "nbconvert_exporter": "python",
   "pygments_lexer": "ipython3",
   "version": "3.8.1"
  }
 },
 "nbformat": 4,
 "nbformat_minor": 4
}
