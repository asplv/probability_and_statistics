{
 "cells": [
  {
   "cell_type": "markdown",
   "metadata": {},
   "source": [
    "Анастасия Плавина\n",
    "\n",
    "### Тема: Дискретные случайные величины. Закон распределения вероятностей. Биномиальный закон распределения. Распределение Пуассона"
   ]
  },
  {
   "cell_type": "markdown",
   "metadata": {},
   "source": [
    "#### Задача 1\n",
    "\n",
    "Контрольная работа состоит из пяти вопросов. На каждый вопрос приведено четыре варианта ответа, один из которых правильный. Составьте закон распределения числа правильных ответов при простом угадывании. Найдите M(X), D(X)."
   ]
  },
  {
   "cell_type": "markdown",
   "metadata": {},
   "source": [
    "$p(k=0) = C_n^kp^kq^{n-k} = C_5^0p^0q^5 = 0.2373$\n",
    "\n",
    "$p(k=1) = C_n^kp^kq^{n-k} = C_5^1p^1q^4 = 0.3955$\n",
    "\n",
    "$p(k=2) = C_n^kp^kq^{n-k} = C_5^2p^2q^3 = 0.2637$\n",
    "\n",
    "$p(k=3) = C_n^kp^kq^{n-k} = C_5^3p^3q^2 = 0.0879$\n",
    "\n",
    "$p(k=4) = C_n^kp^kq^{n-k} = C_5^4p^4q^1 = 0.0146$\n",
    "\n",
    "$p(k=5) = C_n^kp^kq^{n-k} = C_5^5p^5q^0 = 0.0010$\n",
    "\n",
    "$M(X) = np = 5 \\cdot 0.25 = 1.25 $\n",
    "\n",
    "$D(X) = npq = 1.25 \\cdot 0.75 = 0.9375$"
   ]
  },
  {
   "cell_type": "code",
   "execution_count": 1,
   "metadata": {},
   "outputs": [],
   "source": [
    "import math \n",
    "import pandas as pd\n",
    "import numpy as np\n",
    "import matplotlib.pyplot as plt\n",
    "%matplotlib inline\n",
    "\n",
    "def combinations(n, k):\n",
    "    return int(math.factorial(n) / (math.factorial(k) *  math.factorial(n-k)))\n",
    "\n",
    "def p_binomial(n, k, p):\n",
    "    q = 1 - p\n",
    "    return combinations(n,k) * p**k * q**(n-k)"
   ]
  },
  {
   "cell_type": "code",
   "execution_count": 2,
   "metadata": {},
   "outputs": [
    {
     "data": {
      "image/png": "[encoded data removed]",
      "text/plain": [
       "<Figure size 432x288 with 1 Axes>"
      ]
     },
     "metadata": {
      "needs_background": "light"
     },
     "output_type": "display_data"
    }
   ],
   "source": [
    "binomial_dist = []\n",
    "n = 5\n",
    "p_k = 0.25\n",
    "\n",
    "for i in range (n+1):\n",
    "    k = p_binomial(n, i, p_k)\n",
    "    binomial_dist.append(k)\n",
    "\n",
    "x = np.arange(0, n+1, 1)\n",
    "y = binomial_dist\n",
    "\n",
    "plt.plot(x, y, c='m')\n",
    "plt.title('Распределение числа правильных ответов')\n",
    "plt.grid()"
   ]
  },
  {
   "cell_type": "code",
   "execution_count": 3,
   "metadata": {},
   "outputs": [
    {
     "data": {
      "text/html": [
       "<div>\n",
       "<style scoped>\n",
       "    .dataframe tbody tr th:only-of-type {\n",
       "        vertical-align: middle;\n",
       "    }\n",
       "\n",
       "    .dataframe tbody tr th {\n",
       "        vertical-align: top;\n",
       "    }\n",
       "\n",
       "    .dataframe thead th {\n",
       "        text-align: right;\n",
       "    }\n",
       "</style>\n",
       "<table border=\"1\" class=\"dataframe\">\n",
       "  <thead>\n",
       "    <tr style=\"text-align: right;\">\n",
       "      <th></th>\n",
       "      <th>p</th>\n",
       "    </tr>\n",
       "  </thead>\n",
       "  <tbody>\n",
       "    <tr>\n",
       "      <th>0</th>\n",
       "      <td>0.237305</td>\n",
       "    </tr>\n",
       "    <tr>\n",
       "      <th>1</th>\n",
       "      <td>0.395508</td>\n",
       "    </tr>\n",
       "    <tr>\n",
       "      <th>2</th>\n",
       "      <td>0.263672</td>\n",
       "    </tr>\n",
       "    <tr>\n",
       "      <th>3</th>\n",
       "      <td>0.087891</td>\n",
       "    </tr>\n",
       "    <tr>\n",
       "      <th>4</th>\n",
       "      <td>0.014648</td>\n",
       "    </tr>\n",
       "    <tr>\n",
       "      <th>5</th>\n",
       "      <td>0.000977</td>\n",
       "    </tr>\n",
       "  </tbody>\n",
       "</table>\n",
       "</div>"
      ],
      "text/plain": [
       "          p\n",
       "0  0.237305\n",
       "1  0.395508\n",
       "2  0.263672\n",
       "3  0.087891\n",
       "4  0.014648\n",
       "5  0.000977"
      ]
     },
     "execution_count": 3,
     "metadata": {},
     "output_type": "execute_result"
    }
   ],
   "source": [
    "df = pd.DataFrame(binomial_dist, index=range(0,6), columns = ['p'])\n",
    "df"
   ]
  },
  {
   "cell_type": "markdown",
   "metadata": {},
   "source": [
    "#### Задача 2\n",
    "\n",
    "Пользователь получает в среднем 10 писем со спамом на свой почтовый ящик за сутки. Найти число N, такое, что с вероятностью 0.95 пользователь получит не более N писем со спамом за текущий день."
   ]
  },
  {
   "cell_type": "code",
   "execution_count": 4,
   "metadata": {},
   "outputs": [
    {
     "name": "stdout",
     "output_type": "stream",
     "text": [
      "15 0.9512595966960214\n"
     ]
    }
   ],
   "source": [
    "lambda_ = 10\n",
    "P_N = 0 \n",
    "N= -1    \n",
    "\n",
    "# складываем вероятности получить до N писем, пока не получим вероятность 0.95\n",
    "while P_N < 0.95:\n",
    "    N += 1\n",
    "    P_N += (lambda_**N) / np.math.factorial(N) * np.exp(-lambda_)\n",
    "\n",
    "print(N, P_N)"
   ]
  },
  {
   "cell_type": "markdown",
   "metadata": {},
   "source": [
    "Ответ: $N = 15$"
   ]
  },
  {
   "cell_type": "markdown",
   "metadata": {},
   "source": [
    "#### Задача 3\n",
    "\n",
    "Производятся выстрелы по мишени. Вероятность попадания в мишень при одном выстреле равна 0.01. Сколько выстрелов нужно сделать чтобы быть уверенным с вероятностью 0.9, что хотя бы 6 раз будет совершено попадание?\n",
    "\n",
    "Подсказка. 1) \"Вероятность попасть k раз при n выстрелах\" - на какое распределение это похоже? 2) А если нам нужна вероятность P(X >= k), а не P(X = k)? 3) Здесь предстоит немножко покодить."
   ]
  },
  {
   "cell_type": "code",
   "execution_count": 5,
   "metadata": {},
   "outputs": [
    {
     "name": "stdout",
     "output_type": "stream",
     "text": [
      "926\n"
     ]
    }
   ],
   "source": [
    "def p_binomial(n, k, p):\n",
    "    q = 1 - p\n",
    "    return combinations(n,k) * p**k * q**(n-k)\n",
    "\n",
    "# вычитаем из единицы сумму вероятностей до 6 попаданий и получаем вероятность попасть более 6 раз \n",
    "def p_k_or_more_successes(n, k, p):\n",
    "    res = 1\n",
    "    for i in range(k):\n",
    "        res -= p_binomial(n, i, p)\n",
    "    return res\n",
    "\n",
    "\n",
    "p = 0.01\n",
    "k = 6\n",
    "n = k\n",
    "\n",
    "# ищем n\n",
    "while p_k_or_more_successes(n, k, p) < 0.9:\n",
    "    n += 1\n",
    "\n",
    "print(n)"
   ]
  },
  {
   "cell_type": "markdown",
   "metadata": {},
   "source": [
    "Ответ: 926 выстрелов"
   ]
  }
 ],
 "metadata": {
  "kernelspec": {
   "display_name": "Python 3",
   "language": "python",
   "name": "python3"
  },
  "language_info": {
   "codemirror_mode": {
    "name": "ipython",
    "version": 3
   },
   "file_extension": ".py",
   "mimetype": "text/x-python",
   "name": "python",
   "nbconvert_exporter": "python",
   "pygments_lexer": "ipython3",
   "version": "3.8.1"
  }
 },
 "nbformat": 4,
 "nbformat_minor": 4
}
