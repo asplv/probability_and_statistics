{
 "cells": [
  {
   "cell_type": "markdown",
   "metadata": {},
   "source": [
    "Анастасия Плавина\n",
    "\n",
    "### Тема: Описательная статистика, повтороение формулы Байеса"
   ]
  },
  {
   "cell_type": "markdown",
   "metadata": {},
   "source": [
    "#### Задача 1\n",
    "\n",
    "Даны значения зарплат из выборки выпускников:\n",
    "\n",
    "100, 80, 75, 77, 89, 33, 45, 25, 65, 17, 30, 230, 24, 57, 55, 70, 75, 65, 84, 90, 150\n",
    "\n",
    "Используя только встроенные питоновские функции и структуры данных (т.е. без библиотек numpy, pandas и др.) посчитать среднее арифметическое, смещённую и несмещённую оценки дисперсии, среднее квадратичное отклонение для данной выборки.\n",
    "\n",
    "Можно затем посчитать те же значения с использованием библиотек, чтобы проверить себя."
   ]
  },
  {
   "cell_type": "code",
   "execution_count": 184,
   "metadata": {},
   "outputs": [
    {
     "name": "stdout",
     "output_type": "stream",
     "text": [
      "Среднее значение выборки: 73.14285714285714\n",
      "Cмещенная оценка дисперсии: 2135.074829931973\n",
      "Несмещенная оценка дисперсии: 2241.8285714285716\n",
      "Среднее квадратичное отклонение по смещенной дисперсии: 46.20686994302874\n",
      "Среднее квадратичное отклонение по несмещенной дисперсии: 47.34795213553139\n"
     ]
    }
   ],
   "source": [
    "import pandas as pd\n",
    "import numpy as np\n",
    "import seaborn as sns\n",
    "\n",
    "x = [100, 80, 75, 77, 89, 33, 45, 25, 65, 17, 30, 230, 24, 57, 55, 70, 75, 65, 84, 90, 150]\n",
    "n = len(x)\n",
    "\n",
    "x_avg = sum(x) / n\n",
    "\n",
    "deviation = 0\n",
    "for i in x:\n",
    "    deviation += (i-x_avg)**2\n",
    "\n",
    "d =  deviation / n\n",
    "d_unb = deviation / (n-1)\n",
    "\n",
    "sigma = d**(1/2)\n",
    "sigma_unb = d_unb**(1/2)\n",
    "\n",
    "print(f'Среднее значение выборки: {x_avg}')\n",
    "print(f'Cмещенная оценка дисперсии: {d}')\n",
    "print(f'Несмещенная оценка дисперсии: {d_unb}') \n",
    "print(f'Среднее квадратичное отклонение по смещенной дисперсии: {sigma}') \n",
    "print(f'Среднее квадратичное отклонение по несмещенной дисперсии: {sigma_unb}') "
   ]
  },
  {
   "cell_type": "code",
   "execution_count": 185,
   "metadata": {},
   "outputs": [
    {
     "data": {
      "text/plain": [
       "((73.14285714285714, 73.14285714285714, 73.14285714285714),\n",
       " (2241.8285714285716, 2241.828571428571),\n",
       " (2135.074829931973, 2135.0748299319725),\n",
       " (46.20686994302874, 46.206869943028735),\n",
       " (47.34795213553139, 47.347952135531386))"
      ]
     },
     "execution_count": 185,
     "metadata": {},
     "output_type": "execute_result"
    }
   ],
   "source": [
    "# проверка\n",
    "x_avg_np = np.mean(x)\n",
    "d_np = np.var(x)\n",
    "sigma_np =  np.std(x)\n",
    "\n",
    "x_series = pd.Series(x)\n",
    "x_avg_pd = x_series.mean()\n",
    "d_pd = x_series.var()\n",
    "sigma_pd = x_series.std()\n",
    "\n",
    "(x_avg, x_avg_np, x_avg_pd), (d_unb, d_pd), (d, d_np), (sigma, sigma_np), (sigma_unb, sigma_pd)"
   ]
  },
  {
   "cell_type": "markdown",
   "metadata": {},
   "source": [
    "#### Задача 2\n",
    "\n",
    "Для выборки из задачи 1 найти (также без использования библиотек):\n",
    "1. медиану, первый и третий квартили, интерквартильное расстояние,\n",
    "2. выборсы в выборке (используя для этого метод как при построении \"усов\" из boxplot).\n",
    "\n",
    "Возможные неоднозначности в вычислении квантилей можно разрешать любым способом."
   ]
  },
  {
   "cell_type": "code",
   "execution_count": 186,
   "metadata": {},
   "outputs": [
    {
     "name": "stdout",
     "output_type": "stream",
     "text": [
      "Медиана = 70\n",
      "Q1 = 45\n",
      "Q3 = 84\n",
      "IQR = 39\n"
     ]
    }
   ],
   "source": [
    "def quantile(x, a):\n",
    "    x.sort()\n",
    "    n = len(x)\n",
    "    idx = n*a\n",
    "    if idx - int(idx) > 0:\n",
    "        q = x[int(idx)]\n",
    "    else:\n",
    "        q = sum(x[int(idx)-1:int(idx)+1]) / 2\n",
    "    \n",
    "    return q\n",
    "\n",
    "median = quantile(x, 0.5)\n",
    "q1 = quantile(x, 0.25)\n",
    "q3 = quantile(x, 0.75)\n",
    "iqr = q3-q1\n",
    "\n",
    "print(f'Медиана = {median}\\nQ1 = {q1}\\nQ3 = {q3}\\nIQR = {iqr}')"
   ]
  },
  {
   "cell_type": "code",
   "execution_count": 187,
   "metadata": {},
   "outputs": [
    {
     "data": {
      "text/plain": [
       "0.25    45.0\n",
       "0.50    70.0\n",
       "0.75    84.0\n",
       "dtype: float64"
      ]
     },
     "execution_count": 187,
     "metadata": {},
     "output_type": "execute_result"
    }
   ],
   "source": [
    "# проверка\n",
    "x_series.quantile([0.25, 0.5, 0.75])"
   ]
  },
  {
   "cell_type": "code",
   "execution_count": 192,
   "metadata": {},
   "outputs": [
    {
     "data": {
      "text/plain": [
       "(Series([], dtype: int64),\n",
       " 11    230\n",
       " 20    150\n",
       " dtype: int64)"
      ]
     },
     "execution_count": 192,
     "metadata": {},
     "output_type": "execute_result"
    }
   ],
   "source": [
    "outliers = x_series[x_series < (q1 - 1.5 * iqr)], x_series[x_series > (q3 + 1.5 * iqr)]\n",
    "outliers"
   ]
  },
  {
   "cell_type": "code",
   "execution_count": 193,
   "metadata": {},
   "outputs": [
    {
     "data": {
      "text/plain": [
       "<matplotlib.axes._subplots.AxesSubplot at 0x7f92b7ef34f0>"
      ]
     },
     "execution_count": 193,
     "metadata": {},
     "output_type": "execute_result"
    },
    {
     "data": {
      "image/png": "[encoded data removed]",
      "text/plain": [
       "<Figure size 432x288 with 1 Axes>"
      ]
     },
     "metadata": {
      "needs_background": "light"
     },
     "output_type": "display_data"
    }
   ],
   "source": [
    "sns.boxplot(x)"
   ]
  },
  {
   "cell_type": "markdown",
   "metadata": {},
   "source": [
    "#### Задача 3\n",
    "\n",
    "В университет на факультеты A и B поступило равное количество студентов, а на факультет C студентов поступило столько же, сколько на A и B вместе. Вероятность того, что студент факультета A сдаст первую сессию, равна 0.8. Для студента факультета B эта вероятность равна 0.7, а для студента факультета C - 0.9. Студент сдал первую сессию. Какова вероятность, что он учится: a) на факультете A? б) на факультете B? в) на факультете C?\n",
    "\n",
    "Замечание: да, эта задача не на тему описательных статистик, но тема важная, и её стоит иногда освежать в памяти."
   ]
  },
  {
   "cell_type": "markdown",
   "metadata": {},
   "source": [
    "#### Решение"
   ]
  },
  {
   "cell_type": "markdown",
   "metadata": {},
   "source": [
    "$P(A) + P(B) = P(C)$ => $P(A) = P(B) = 0.25$, a $P(C) = 0.5$ - вероятность быть студентом соответствующего факультета\n",
    "\n",
    "$P(S|A)= 0.8$ - вероятность сдать сессию, если ты студент факультета А \n",
    "\n",
    "$Р(S)$ - вероятность сдать сессию для всех факультетов\n",
    "\n",
    "$P(A|S)$ - вероятность быть студентом факультета А, если сдал сессию\n",
    "\n",
    "По формуле Байеса:\n",
    "### $P(A|S) = \\frac{P(S|A) \\cdot P(A)}{P(S)}$\n",
    "\n",
    "\n",
    "По формуле полной вероятности:\n",
    "$P(S) = P(S|A) \\cdot P(A) + P(S|B) \\cdot P(B) + P(S|C) \\cdot P(C)= 0.8 \\cdot 0.25 + 0.7 \\cdot 0.25 + 0.9 \\cdot 0.5 = 0.825$\n",
    "\n",
    "$P(A|S) = \\frac{0.8 \\cdot 0.25}{0.825} \\approx 0.24$\n",
    "\n",
    "$P(B|S) = \\frac{0.7 \\cdot 0.25}{0.825} \\approx 0.21$\n",
    "\n",
    "$P(C|S) = \\frac{0.9 \\cdot 0.5}{0.825} \\approx 0.55$"
   ]
  },
  {
   "cell_type": "code",
   "execution_count": 203,
   "metadata": {},
   "outputs": [
    {
     "data": {
      "text/plain": [
       "0.825"
      ]
     },
     "execution_count": 203,
     "metadata": {},
     "output_type": "execute_result"
    }
   ],
   "source": [
    "p_a = 0.25\n",
    "p_b = p_a\n",
    "p_c = p_a + p_b\n",
    "p_sa = 0.8\n",
    "p_sb = 0.7\n",
    "p_sc = 0.9\n",
    "\n",
    "p_s = p_sa*p_a + p_sb*p_b + p_sc*p_c\n",
    "p_s"
   ]
  },
  {
   "cell_type": "code",
   "execution_count": 204,
   "metadata": {},
   "outputs": [
    {
     "data": {
      "text/plain": [
       "0.24242424242424246"
      ]
     },
     "execution_count": 204,
     "metadata": {},
     "output_type": "execute_result"
    }
   ],
   "source": [
    "p_sa*p_a / p_s"
   ]
  },
  {
   "cell_type": "code",
   "execution_count": 199,
   "metadata": {},
   "outputs": [
    {
     "data": {
      "text/plain": [
       "0.21212121212121213"
      ]
     },
     "execution_count": 199,
     "metadata": {},
     "output_type": "execute_result"
    }
   ],
   "source": [
    "p_sb*p_b / p_s"
   ]
  },
  {
   "cell_type": "code",
   "execution_count": 205,
   "metadata": {},
   "outputs": [
    {
     "data": {
      "text/plain": [
       "0.5454545454545455"
      ]
     },
     "execution_count": 205,
     "metadata": {},
     "output_type": "execute_result"
    }
   ],
   "source": [
    "p_sc*p_c / p_s"
   ]
  }
 ],
 "metadata": {
  "kernelspec": {
   "display_name": "Python 3",
   "language": "python",
   "name": "python3"
  },
  "language_info": {
   "codemirror_mode": {
    "name": "ipython",
    "version": 3
   },
   "file_extension": ".py",
   "mimetype": "text/x-python",
   "name": "python",
   "nbconvert_exporter": "python",
   "pygments_lexer": "ipython3",
   "version": "3.8.1"
  }
 },
 "nbformat": 4,
 "nbformat_minor": 4
}
